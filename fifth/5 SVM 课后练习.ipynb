{
 "cells": [
  {
   "cell_type": "markdown",
   "metadata": {},
   "source": [
    "# 5 SVM 课堂练习\n",
    "\n",
    "姓名：华勤达\n",
    "\n",
    "学号：2018212212229"
   ]
  },
  {
   "cell_type": "markdown",
   "metadata": {},
   "source": [
    "贷款违约数据集来自Kaggle数据科学竞赛平台2011年的一个竞赛项目“Give Me Some Cerdit”，该数据集共包含25000个样本，其中150000个样本作为训练集，100000个样本用作测试集。\n",
    "\n",
    "该训练集共有150000条借款人的历史数据，其中违约样本10026条，占样本总量的6.684%，贷款违约率为6.684%，未违约样本139974条，占样本总量的93.316%。可以看出该数据集是一个典型的高度不平衡的数据。数据集中包括了借款人的年龄、收入、家庭等情况和贷款情况，共11个变量，其中SeriousDlqin2yrs是label标签，另外10个变量为预测特征。下表列出了变量名称及数据类型情况： \n",
    "\n",
    "表1 数据集变量情况\n",
    "\n",
    "| 变量名 | 变量描述 | 类型 |\n",
    "|  - | -  | -|\n",
    "|SeriousDlqin2yrs | 是否违约 | Y/N|\n",
    "|RevolvingUtilizationOfUnsecuredLines | 信用卡和个人信用贷款的总额（不含房贷、类似车贷的分期付款等）除以授信额度之和 | 百分比 |\n",
    "|age | 借款人年龄 | 整数 |\n",
    "|NumberOfTime30-59DaysPastDueNotWorse | 过去两年中借款人逾期30-59天的次数 | 整数 |\n",
    "|DebtRatio | 每月债务偿还数、赡养费、生活成本等除以每月总收入 | 百分比 |\n",
    "|MonthlyIncome | 月收入 | 实数|\n",
    "|NumberOfOpenCreditLinesAndLoans | 开放贷款（Open loans，分期付款如车贷和抵押）和信用贷款（Lines of credit,如信用卡）的数量 |整数 |\n",
    "|NumberOfTimes90DaysLate| 过去两年中借款人逾期90天及以上的次数 | 整数|\n",
    "|NumberRealEstateLoansOrLines | 抵押和房地产贷款含房屋抵押式信用贷款的次数 | 整数|\n",
    "|NumberOfTime60-89DaysPastDueNotWorse| 过去两年中借款人逾期60-89天的次数 | 整数 |\n",
    "|NumberOfDependents | 不包括本人在内家庭中需要抚养的人（配偶及子女等等）数 | 整数 |"
   ]
  },
  {
   "cell_type": "markdown",
   "metadata": {},
   "source": [
    "1. 数据导入和清洗"
   ]
  },
  {
   "cell_type": "code",
   "execution_count": 1,
   "metadata": {
    "ExecuteTime": {
     "end_time": "2021-04-06T11:04:55.575556Z",
     "start_time": "2021-04-06T11:04:54.060771Z"
    }
   },
   "outputs": [
    {
     "data": {
      "text/plain": [
       "((150000, 5), (150000,))"
      ]
     },
     "execution_count": 1,
     "metadata": {},
     "output_type": "execute_result"
    }
   ],
   "source": [
    "import pandas as pd\n",
    "\n",
    "train_data = pd.read_csv('cs-training(2).csv')\n",
    "\n",
    "feature_names = ['个人信用贷款/授信额度','借款人年龄','逾期30-59天次数','债务收入比','贷款数量']\n",
    "drop_features = ['Unnamed: 0','MonthlyIncome','NumberOfTimes90DaysLate','NumberRealEstateLoansOrLines',\n",
    "                 'NumberOfTime60-89DaysPastDueNotWorse','NumberOfDependents']\n",
    "target_names = ['正常','违约']\n",
    "\n",
    "train_data = train_data.drop(drop_features, axis=1).dropna()\n",
    "X = train_data.drop([\"SeriousDlqin2yrs\"], axis=1).copy()\n",
    "y = train_data.SeriousDlqin2yrs\n",
    "X.shape, y.shape"
   ]
  },
  {
   "cell_type": "markdown",
   "metadata": {},
   "source": [
    "2. 分训练集和测试集"
   ]
  },
  {
   "cell_type": "code",
   "execution_count": 2,
   "metadata": {
    "ExecuteTime": {
     "end_time": "2021-04-06T11:05:00.185330Z",
     "start_time": "2021-04-06T11:04:59.367090Z"
    }
   },
   "outputs": [
    {
     "data": {
      "text/plain": [
       "((120000, 5), (30000, 5))"
      ]
     },
     "execution_count": 2,
     "metadata": {},
     "output_type": "execute_result"
    }
   ],
   "source": [
    "from sklearn.model_selection import train_test_split\n",
    "\n",
    "X_train, X_test, y_train, y_test = train_test_split(\n",
    "                                   X, y, test_size=0.2, random_state=42)\n",
    "X_train.shape,X_test.shape"
   ]
  },
  {
   "cell_type": "markdown",
   "metadata": {},
   "source": [
    "3. 采用RandomizedSearchCV搜索最佳gamma和C的参数"
   ]
  },
  {
   "cell_type": "code",
   "execution_count": 3,
   "metadata": {
    "ExecuteTime": {
     "end_time": "2021-04-06T11:19:49.849907Z",
     "start_time": "2021-04-06T11:05:04.371780Z"
    }
   },
   "outputs": [
    {
     "name": "stderr",
     "output_type": "stream",
     "text": [
      "/Users/sunrise/anaconda3/lib/python3.8/site-packages/sklearn/model_selection/_search.py:285: UserWarning: The total space of parameters 4 is smaller than n_iter=10. Running 4 iterations. For exhaustive searches, use GridSearchCV.\n",
      "  warnings.warn(\n"
     ]
    },
    {
     "data": {
      "text/plain": [
       "Pipeline(steps=[('sc', StandardScaler()), ('pca', PCA(n_components=2)),\n",
       "                ('clf',\n",
       "                 RandomizedSearchCV(cv=5, estimator=SVC(), n_jobs=-1,\n",
       "                                    param_distributions={'C': [1, 2],\n",
       "                                                         'gamma': [0.125, 0.5]},\n",
       "                                    scoring='f1'))])"
      ]
     },
     "execution_count": 3,
     "metadata": {},
     "output_type": "execute_result"
    }
   ],
   "source": [
    "from sklearn.svm import SVC\n",
    "from sklearn.pipeline import Pipeline\n",
    "from sklearn.model_selection import RandomizedSearchCV\n",
    "from sklearn.preprocessing import StandardScaler\n",
    "from sklearn.model_selection import cross_val_score\n",
    "from sklearn.decomposition import PCA\n",
    "\n",
    "#定义SVC对象\n",
    "my_svc = SVC()\n",
    "\n",
    "\n",
    "#parameters字典，包括对C和对gamma的定义\n",
    "parameters = {'C':[1, 2], 'gamma':[0.125, 0.5]}\n",
    " \n",
    "# 构建pipeline,scoring='f1',cv=5\n",
    "\n",
    "\n",
    "# svr = RandomizedSearchCV(my_svc, parameters, scoring='f1', cv=5)\n",
    "\n",
    "pipe_svc_rnd = Pipeline([('sc', StandardScaler()),\n",
    "                    ('pca', PCA(n_components=2)),\n",
    "                    ('clf', RandomizedSearchCV(my_svc, parameters, scoring='f1', cv=5,n_jobs=-1))\n",
    "                    ])\n",
    "pipe_svc_rnd.fit(X_train, y_train)\n",
    "\n"
   ]
  },
  {
   "cell_type": "code",
   "execution_count": 4,
   "metadata": {
    "ExecuteTime": {
     "end_time": "2021-04-06T11:36:12.984642Z",
     "start_time": "2021-04-06T11:19:49.852005Z"
    }
   },
   "outputs": [
    {
     "name": "stderr",
     "output_type": "stream",
     "text": [
      "/Users/sunrise/anaconda3/lib/python3.8/site-packages/sklearn/model_selection/_search.py:285: UserWarning: The total space of parameters 4 is smaller than n_iter=10. Running 4 iterations. For exhaustive searches, use GridSearchCV.\n",
      "  warnings.warn(\n"
     ]
    },
    {
     "name": "stdout",
     "output_type": "stream",
     "text": [
      "CPU times: user 1min 11s, sys: 429 ms, total: 1min 12s\n",
      "Wall time: 16min 23s\n"
     ]
    },
    {
     "data": {
      "text/plain": [
       "Pipeline(steps=[('sc', StandardScaler()), ('pca', PCA(n_components=2)),\n",
       "                ('clf',\n",
       "                 RandomizedSearchCV(cv=5, estimator=SVC(), n_jobs=-1,\n",
       "                                    param_distributions={'C': [1, 2],\n",
       "                                                         'gamma': [0.125, 0.5]},\n",
       "                                    scoring='f1'))])"
      ]
     },
     "execution_count": 4,
     "metadata": {},
     "output_type": "execute_result"
    }
   ],
   "source": [
    "%time pipe_svc_rnd.fit(X_train, y_train)"
   ]
  },
  {
   "cell_type": "code",
   "execution_count": 6,
   "metadata": {
    "ExecuteTime": {
     "end_time": "2021-04-06T11:41:54.000900Z",
     "start_time": "2021-04-06T11:41:53.994762Z"
    }
   },
   "outputs": [
    {
     "name": "stdout",
     "output_type": "stream",
     "text": [
      "--------结果报告----------\n",
      "最优模型(best_estimator_): SVC(C=1, gamma=0.125)\n",
      "最优参数(best_params_): {'gamma': 0.125, 'C': 1}\n",
      "best_score_: 0.021101264740652114\n",
      "scorer_: make_scorer(f1_score, average=binary)\n",
      "-------------------------\n"
     ]
    }
   ],
   "source": [
    "print('--------结果报告----------')\n",
    "print('最优模型(best_estimator_):',pipe_svc_rnd['clf'].best_estimator_) \n",
    "print('最优参数(best_params_):',pipe_svc_rnd['clf'].best_params_) \n",
    "print('best_score_:',pipe_svc_rnd['clf'].best_score_)\n",
    "print('scorer_:',pipe_svc_rnd['clf'].scorer_)\n",
    "print('-------------------------')"
   ]
  },
  {
   "cell_type": "code",
   "execution_count": 7,
   "metadata": {
    "ExecuteTime": {
     "end_time": "2021-04-06T11:41:58.389435Z",
     "start_time": "2021-04-06T11:41:58.384577Z"
    }
   },
   "outputs": [
    {
     "name": "stdout",
     "output_type": "stream",
     "text": [
      "0.021101  with:   {'gamma': 0.125, 'C': 1}\n",
      "0.019683  with:   {'gamma': 0.5, 'C': 1}\n",
      "0.020614  with:   {'gamma': 0.125, 'C': 2}\n",
      "0.020162  with:   {'gamma': 0.5, 'C': 2}\n"
     ]
    }
   ],
   "source": [
    "means = pipe_svc_rnd['clf'].cv_results_['mean_test_score']\n",
    "params = pipe_svc_rnd['clf'].cv_results_['params']\n",
    "for mean,param in zip(means,params):\n",
    "    print(\"%f  with:   %r\" % (mean,param))"
   ]
  },
  {
   "cell_type": "code",
   "execution_count": 8,
   "metadata": {
    "ExecuteTime": {
     "end_time": "2021-04-06T11:42:44.744501Z",
     "start_time": "2021-04-06T11:42:01.965410Z"
    }
   },
   "outputs": [
    {
     "name": "stdout",
     "output_type": "stream",
     "text": [
      "CPU times: user 43.1 s, sys: 91.8 ms, total: 43.2 s\n",
      "Wall time: 42.8 s\n"
     ]
    }
   ],
   "source": [
    "#检查模型准确率\n",
    "from sklearn.metrics import accuracy_score\n",
    "\n",
    "%time y_pred = pipe_svc_rnd.predict(X_test)"
   ]
  },
  {
   "cell_type": "code",
   "execution_count": 9,
   "metadata": {
    "ExecuteTime": {
     "end_time": "2021-04-06T11:42:44.779497Z",
     "start_time": "2021-04-06T11:42:44.747755Z"
    }
   },
   "outputs": [
    {
     "data": {
      "text/plain": [
       "array([[28018,    26],\n",
       "       [ 1928,    28]])"
      ]
     },
     "execution_count": 9,
     "metadata": {},
     "output_type": "execute_result"
    }
   ],
   "source": [
    "#查看混淆矩阵\n",
    "from sklearn.metrics import confusion_matrix\n",
    "\n",
    "confusion_matrix(y_test, y_pred)"
   ]
  },
  {
   "cell_type": "code",
   "execution_count": 10,
   "metadata": {
    "ExecuteTime": {
     "end_time": "2021-04-06T11:42:44.795596Z",
     "start_time": "2021-04-06T11:42:44.783278Z"
    }
   },
   "outputs": [
    {
     "data": {
      "text/plain": [
       "0.027860696517412933"
      ]
     },
     "execution_count": 10,
     "metadata": {},
     "output_type": "execute_result"
    }
   ],
   "source": [
    "#查看F1score\n",
    "from sklearn import metrics\n",
    "\n",
    "score = metrics.f1_score(y_test,y_pred)\n",
    "score"
   ]
  }
 ],
 "metadata": {
  "kernelspec": {
   "display_name": "Python 3",
   "language": "python",
   "name": "python3"
  },
  "language_info": {
   "codemirror_mode": {
    "name": "ipython",
    "version": 3
   },
   "file_extension": ".py",
   "mimetype": "text/x-python",
   "name": "python",
   "nbconvert_exporter": "python",
   "pygments_lexer": "ipython3",
   "version": "3.8.5"
  }
 },
 "nbformat": 4,
 "nbformat_minor": 4
}
