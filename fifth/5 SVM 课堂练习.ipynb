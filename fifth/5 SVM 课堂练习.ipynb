{
 "cells": [
  {
   "cell_type": "markdown",
   "metadata": {},
   "source": [
    "# 5 SVM 课堂练习\n",
    "\n",
    "姓名：华勤达\n",
    "\n",
    "学号：2018212212229"
   ]
  },
  {
   "cell_type": "markdown",
   "metadata": {},
   "source": [
    "贷款违约数据集来自Kaggle数据科学竞赛平台2011年的一个竞赛项目“Give Me Some Cerdit”，该数据集共包含25000个样本，其中150000个样本作为训练集，100000个样本用作测试集。\n",
    "\n",
    "该训练集共有150000条借款人的历史数据，其中违约样本10026条，占样本总量的6.684%，贷款违约率为6.684%，未违约样本139974条，占样本总量的93.316%。可以看出该数据集是一个典型的高度不平衡的数据。数据集中包括了借款人的年龄、收入、家庭等情况和贷款情况，共11个变量，其中SeriousDlqin2yrs是label标签，另外10个变量为预测特征。下表列出了变量名称及数据类型情况： \n",
    "\n",
    "表1 数据集变量情况\n",
    "\n",
    "| 变量名 | 变量描述 | 类型 |\n",
    "|  - | -  | -|\n",
    "|SeriousDlqin2yrs | 是否违约 | Y/N|\n",
    "|RevolvingUtilizationOfUnsecuredLines | 信用卡和个人信用贷款的总额（不含房贷、类似车贷的分期付款等）除以授信额度之和 | 百分比 |\n",
    "|age | 借款人年龄 | 整数 |\n",
    "|NumberOfTime30-59DaysPastDueNotWorse | 过去两年中借款人逾期30-59天的次数 | 整数 |\n",
    "|DebtRatio | 每月债务偿还数、赡养费、生活成本等除以每月总收入 | 百分比 |\n",
    "|MonthlyIncome | 月收入 | 实数|\n",
    "|NumberOfOpenCreditLinesAndLoans | 开放贷款（Open loans，分期付款如车贷和抵押）和信用贷款（Lines of credit,如信用卡）的数量 |整数 |\n",
    "|NumberOfTimes90DaysLate| 过去两年中借款人逾期90天及以上的次数 | 整数|\n",
    "|NumberRealEstateLoansOrLines | 抵押和房地产贷款含房屋抵押式信用贷款的次数 | 整数|\n",
    "|NumberOfTime60-89DaysPastDueNotWorse| 过去两年中借款人逾期60-89天的次数 | 整数 |\n",
    "|NumberOfDependents | 不包括本人在内家庭中需要抚养的人（配偶及子女等等）数 | 整数 |"
   ]
  },
  {
   "cell_type": "markdown",
   "metadata": {},
   "source": [
    "1. 数据导入和清洗"
   ]
  },
  {
   "cell_type": "code",
   "execution_count": 1,
   "metadata": {
    "ExecuteTime": {
     "end_time": "2021-04-06T08:27:36.662132Z",
     "start_time": "2021-04-06T08:27:35.292178Z"
    }
   },
   "outputs": [
    {
     "data": {
      "text/plain": [
       "((150000, 5), (150000,))"
      ]
     },
     "execution_count": 1,
     "metadata": {},
     "output_type": "execute_result"
    }
   ],
   "source": [
    "import pandas as pd\n",
    "\n",
    "train_data = pd.read_csv('cs-training(2).csv')\n",
    "\n",
    "feature_names = ['个人信用贷款/授信额度','借款人年龄','逾期30-59天次数','债务收入比','贷款数量']\n",
    "drop_features = ['Unnamed: 0','MonthlyIncome','NumberOfTimes90DaysLate','NumberRealEstateLoansOrLines',\n",
    "                 'NumberOfTime60-89DaysPastDueNotWorse','NumberOfDependents']\n",
    "target_names = ['正常','违约']\n",
    "\n",
    "train_data = train_data.drop(drop_features, axis=1).dropna()\n",
    "X = train_data.drop([\"SeriousDlqin2yrs\"], axis=1).copy()\n",
    "y = train_data.SeriousDlqin2yrs\n",
    "X.shape, y.shape"
   ]
  },
  {
   "cell_type": "markdown",
   "metadata": {},
   "source": [
    "2. 分训练集和测试集"
   ]
  },
  {
   "cell_type": "code",
   "execution_count": 2,
   "metadata": {
    "ExecuteTime": {
     "end_time": "2021-04-06T08:27:39.134907Z",
     "start_time": "2021-04-06T08:27:38.385327Z"
    }
   },
   "outputs": [
    {
     "data": {
      "text/plain": [
       "((120000, 5), (30000, 5))"
      ]
     },
     "execution_count": 2,
     "metadata": {},
     "output_type": "execute_result"
    }
   ],
   "source": [
    "from sklearn.model_selection import train_test_split\n",
    "\n",
    "X_train, X_test, y_train, y_test = train_test_split(\n",
    "                                   X, y, test_size=0.2, random_state=42)\n",
    "X_train.shape,X_test.shape"
   ]
  },
  {
   "cell_type": "code",
   "execution_count": 35,
   "metadata": {
    "ExecuteTime": {
     "end_time": "2021-04-06T10:13:45.294647Z",
     "start_time": "2021-04-06T10:13:45.291034Z"
    }
   },
   "outputs": [],
   "source": [
    "from sklearn.svm import SVC\n",
    "my_svc = SVC(kernel='rbf', C=1, gamma=0.5, cache_size=200)\n",
    "\n",
    "# 构建pipeline\n",
    "pipe_svc = Pipeline([('sc', StandardScaler()),\n",
    "                    ('my_svc',my_svc)\n",
    "                    ])"
   ]
  },
  {
   "cell_type": "code",
   "execution_count": 36,
   "metadata": {
    "ExecuteTime": {
     "end_time": "2021-04-06T10:23:36.959252Z",
     "start_time": "2021-04-06T10:13:50.565350Z"
    }
   },
   "outputs": [
    {
     "data": {
      "text/plain": [
       "Pipeline(steps=[('sc', StandardScaler()), ('my_svc', SVC(C=1, gamma=0.5))])"
      ]
     },
     "execution_count": 36,
     "metadata": {},
     "output_type": "execute_result"
    }
   ],
   "source": [
    "# print()\n",
    "pipe_svc.fit(X_train, y_train)"
   ]
  },
  {
   "cell_type": "markdown",
   "metadata": {},
   "source": [
    "3.采用Pipeline进行数据归一化和训练模型,并且不设置class_weight参数"
   ]
  },
  {
   "cell_type": "code",
   "execution_count": 37,
   "metadata": {
    "ExecuteTime": {
     "end_time": "2021-04-06T10:24:31.698079Z",
     "start_time": "2021-04-06T10:23:36.961024Z"
    }
   },
   "outputs": [
    {
     "name": "stdout",
     "output_type": "stream",
     "text": [
      "CPU times: user 54.1 s, sys: 260 ms, total: 54.4 s\n",
      "Wall time: 54.7 s\n"
     ]
    },
    {
     "data": {
      "text/plain": [
       "0.9352666666666667"
      ]
     },
     "execution_count": 37,
     "metadata": {},
     "output_type": "execute_result"
    }
   ],
   "source": [
    "#检查模型准确率\n",
    "from sklearn.metrics import accuracy_score\n",
    "%time y_pred = pipe_svc.predict(X_test)\n",
    "accuracy_score(y_test, y_pred)"
   ]
  },
  {
   "cell_type": "code",
   "execution_count": 38,
   "metadata": {
    "ExecuteTime": {
     "end_time": "2021-04-06T10:24:31.721964Z",
     "start_time": "2021-04-06T10:24:31.701162Z"
    }
   },
   "outputs": [
    {
     "data": {
      "text/plain": [
       "array([[28035,     9],\n",
       "       [ 1933,    23]])"
      ]
     },
     "execution_count": 38,
     "metadata": {},
     "output_type": "execute_result"
    }
   ],
   "source": [
    "#查看混淆矩阵\n",
    "from sklearn.metrics import confusion_matrix\n",
    "confusion_matrix(y_test, y_pred)"
   ]
  },
  {
   "cell_type": "code",
   "execution_count": 39,
   "metadata": {
    "ExecuteTime": {
     "end_time": "2021-04-06T10:24:31.734615Z",
     "start_time": "2021-04-06T10:24:31.724783Z"
    }
   },
   "outputs": [
    {
     "data": {
      "text/plain": [
       "0.02313883299798793"
      ]
     },
     "execution_count": 39,
     "metadata": {},
     "output_type": "execute_result"
    }
   ],
   "source": [
    "#查看F1score\n",
    "from sklearn import metrics\n",
    "score = metrics.f1_score(y_test,y_pred)\n",
    "score"
   ]
  },
  {
   "cell_type": "markdown",
   "metadata": {},
   "source": [
    "4. 再次定义 Pipline模型，并设置class_weight = ?"
   ]
  },
  {
   "cell_type": "code",
   "execution_count": 41,
   "metadata": {
    "ExecuteTime": {
     "end_time": "2021-04-06T10:35:23.568097Z",
     "start_time": "2021-04-06T10:25:38.688623Z"
    }
   },
   "outputs": [
    {
     "name": "stdout",
     "output_type": "stream",
     "text": [
      "CPU times: user 9min 38s, sys: 3.12 s, total: 9min 41s\n",
      "Wall time: 9min 44s\n"
     ]
    },
    {
     "data": {
      "text/plain": [
       "Pipeline(steps=[('sc', StandardScaler()),\n",
       "                ('my_svc_we', SVC(C=1, class_weight={0: 1, 1: 9}, gamma=0.5))])"
      ]
     },
     "execution_count": 41,
     "metadata": {},
     "output_type": "execute_result"
    }
   ],
   "source": [
    "my_svc_we = SVC(kernel = 'rbf', C = 1, gamma = 0.5, cache_size = 200, class_weight = {0:1,1:9})\n",
    "\n",
    "# 构建pipeline\n",
    "pipe_svc2 = Pipeline([('sc', StandardScaler()),\n",
    "                    ('my_svc_we', my_svc_we)\n",
    "                    ])\n",
    "%time pipe_svc2.fit(X_train, y_train)"
   ]
  },
  {
   "cell_type": "code",
   "execution_count": 42,
   "metadata": {
    "ExecuteTime": {
     "end_time": "2021-04-06T10:38:11.647544Z",
     "start_time": "2021-04-06T10:35:23.572098Z"
    },
    "jupyter": {
     "outputs_hidden": false
    }
   },
   "outputs": [
    {
     "name": "stdout",
     "output_type": "stream",
     "text": [
      "CPU times: user 2min 45s, sys: 944 ms, total: 2min 46s\n",
      "Wall time: 2min 48s\n"
     ]
    },
    {
     "data": {
      "text/plain": [
       "0.8363666666666667"
      ]
     },
     "execution_count": 42,
     "metadata": {},
     "output_type": "execute_result"
    }
   ],
   "source": [
    "#检查模型准确率\n",
    "from sklearn.metrics import accuracy_score\n",
    "\n",
    "%time y_pred = pipe_svc2.predict(X_test)\n",
    "accuracy_score(y_test, y_pred)"
   ]
  },
  {
   "cell_type": "code",
   "execution_count": 43,
   "metadata": {
    "ExecuteTime": {
     "end_time": "2021-04-06T10:38:11.677868Z",
     "start_time": "2021-04-06T10:38:11.651070Z"
    }
   },
   "outputs": [
    {
     "data": {
      "text/plain": [
       "array([[24042,  4002],\n",
       "       [  907,  1049]])"
      ]
     },
     "execution_count": 43,
     "metadata": {},
     "output_type": "execute_result"
    }
   ],
   "source": [
    "#查看混淆矩阵\n",
    "from sklearn.metrics import confusion_matrix\n",
    "\n",
    "confusion_matrix(y_test, y_pred)"
   ]
  },
  {
   "cell_type": "code",
   "execution_count": 44,
   "metadata": {
    "ExecuteTime": {
     "end_time": "2021-04-06T10:38:11.693153Z",
     "start_time": "2021-04-06T10:38:11.680101Z"
    }
   },
   "outputs": [
    {
     "data": {
      "text/plain": [
       "0.2994148708434423"
      ]
     },
     "execution_count": 44,
     "metadata": {},
     "output_type": "execute_result"
    }
   ],
   "source": [
    "#查看F1score\n",
    "from sklearn import metrics\n",
    "\n",
    "score = metrics.f1_score(y_test,y_pred)\n",
    "score"
   ]
  }
 ],
 "metadata": {
  "kernelspec": {
   "display_name": "Python 3",
   "language": "python",
   "name": "python3"
  },
  "language_info": {
   "codemirror_mode": {
    "name": "ipython",
    "version": 3
   },
   "file_extension": ".py",
   "mimetype": "text/x-python",
   "name": "python",
   "nbconvert_exporter": "python",
   "pygments_lexer": "ipython3",
   "version": "3.8.5"
  }
 },
 "nbformat": 4,
 "nbformat_minor": 4
}
