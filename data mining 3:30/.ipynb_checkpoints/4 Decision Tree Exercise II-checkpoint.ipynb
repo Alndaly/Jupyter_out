{
 "cells": [
  {
   "cell_type": "markdown",
   "metadata": {},
   "source": [
    "# 4. 决策树 练习II\n",
    "\n",
    "学号：\n",
    "\n",
    "姓名：\n",
    "\n",
    "   "
   ]
  },
  {
   "cell_type": "markdown",
   "metadata": {},
   "source": [
    "对于贷款违约数据集构建决策树进行剪枝"
   ]
  },
  {
   "cell_type": "markdown",
   "metadata": {},
   "source": [
    "1. 数据导入和清洗"
   ]
  },
  {
   "cell_type": "code",
   "execution_count": 1,
   "metadata": {},
   "outputs": [
    {
     "data": {
      "text/plain": [
       "((150000, 5), (150000,))"
      ]
     },
     "execution_count": 1,
     "metadata": {},
     "output_type": "execute_result"
    }
   ],
   "source": [
    "import pandas as pd\n",
    "\n",
    "train_data = pd.read_csv('cs-training.csv')\n",
    "\n",
    "feature_names = ['个人信用贷款/授信额度','借款人年龄','逾期30-59天次数','债务收入比','贷款数量']\n",
    "drop_features = ['Unnamed: 0','MonthlyIncome','NumberOfTimes90DaysLate','NumberRealEstateLoansOrLines',\n",
    "                 'NumberOfTime60-89DaysPastDueNotWorse','NumberOfDependents']\n",
    "target_names = ['正常','违约']\n",
    "\n",
    "train_data = train_data.drop(drop_features, axis=1).dropna()\n",
    "X = train_data.drop([\"SeriousDlqin2yrs\"], axis=1).copy()\n",
    "y = train_data.SeriousDlqin2yrs\n",
    "X.shape, y.shape"
   ]
  },
  {
   "cell_type": "markdown",
   "metadata": {},
   "source": [
    "2. 分训练集和测试集"
   ]
  },
  {
   "cell_type": "code",
   "execution_count": 2,
   "metadata": {},
   "outputs": [],
   "source": [
    "from sklearn.model_selection import train_test_split\n",
    "\n",
    "X_train, X_test, y_train, y_test = train_test_split(\n",
    "                                   X, y, test_size=0.4, random_state=0)"
   ]
  },
  {
   "cell_type": "markdown",
   "metadata": {},
   "source": [
    "3. 利用学习曲线，确定最优max_depth"
   ]
  },
  {
   "cell_type": "markdown",
   "metadata": {},
   "source": [
    "首先构建决策树，绘制学习曲线"
   ]
  },
  {
   "cell_type": "code",
   "execution_count": null,
   "metadata": {},
   "outputs": [],
   "source": [
    "from sklearn.tree import DecisionTreeClassifier\n",
    "from sklearn import metrics\n",
    "import matplotlib.pyplot as plt\n",
    "%matplotlib inline\n",
    "\n",
    "#请完成代码,构建决策树，通过调整决策树最大深度来绘制学习曲线\n",
    "\n",
    "\n"
   ]
  },
  {
   "cell_type": "markdown",
   "metadata": {},
   "source": [
    "确定最优决策树深度，训练模型，得到模型在测试集的准确率，F1值。"
   ]
  },
  {
   "cell_type": "code",
   "execution_count": null,
   "metadata": {},
   "outputs": [],
   "source": [
    "#请完成代码，按照学习曲线显示情况，选择最佳决策树深度，训练模型，获得模型的准确率和F1值。\n",
    "\n",
    "\n",
    "\n",
    "\n"
   ]
  },
  {
   "cell_type": "markdown",
   "metadata": {},
   "source": [
    "4. 显示决策树\n",
    "\n",
    "决策树设置最大深度为3，显示决策树"
   ]
  },
  {
   "cell_type": "code",
   "execution_count": null,
   "metadata": {},
   "outputs": [],
   "source": [
    "from sklearn.tree import export_graphviz\n",
    "import graphviz\n",
    "\n",
    "#请完成代码，设置树的深度，训练模型，显示决策树。\n",
    "\n",
    "\n",
    "\n",
    "\n"
   ]
  }
 ],
 "metadata": {
  "kernelspec": {
   "display_name": "Python 3",
   "language": "python",
   "name": "python3"
  },
  "language_info": {
   "codemirror_mode": {
    "name": "ipython",
    "version": 3
   },
   "file_extension": ".py",
   "mimetype": "text/x-python",
   "name": "python",
   "nbconvert_exporter": "python",
   "pygments_lexer": "ipython3",
   "version": "3.7.6"
  }
 },
 "nbformat": 4,
 "nbformat_minor": 4
}
