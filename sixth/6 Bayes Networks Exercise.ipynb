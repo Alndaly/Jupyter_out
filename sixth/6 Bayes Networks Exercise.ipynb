{
 "cells": [
  {
   "cell_type": "markdown",
   "metadata": {},
   "source": [
    "# 6 Naive Bayes 课后练习\n",
    "\n",
    "姓名：华勤达\n",
    "\n",
    "学号：2018212212229"
   ]
  },
  {
   "cell_type": "markdown",
   "metadata": {},
   "source": [
    "贝叶斯网络对乳腺癌的诊断\n",
    "\n",
    "     属性                                       代码    范围     \n",
    "   -----------------------------------------------------------\n",
    "    样本编号(Sample code number)                 SCN    id number\n",
    "    团块厚度(Clump Thickness)                    CT     1 - 10\n",
    "    细胞大小的均匀性(Uniformity of Cell Size)     UCSI   1 - 10\n",
    "    细胞形状的均匀性(Uniformity of Cell Shape)    UCSH   1 - 10\n",
    "    边缘附着力(Marginal Adhesion)                 MA     1 - 10\n",
    "    单个上皮细胞大小(Single Epithelial Cell Size) SECS   1 - 10\n",
    "    裸核(Bare Nuclei)                            BN     1 - 10\n",
    "    温和的染色体(Bland Chromatin)                 BC     1 - 10\n",
    "    正常核仁(Normal Nucleoli)                     NN     1 - 10\n",
    "    线粒体(Mitoses)                               M      1 - 10\n",
    "    类别(Class)                                   C      (2 for 良性, 4 for 恶性的)"
   ]
  },
  {
   "cell_type": "code",
   "execution_count": 11,
   "metadata": {
    "ExecuteTime": {
     "end_time": "2021-04-13T08:38:08.697597Z",
     "start_time": "2021-04-13T08:38:08.694598Z"
    }
   },
   "outputs": [],
   "source": [
    "import numpy as np\n",
    "import pandas as pd\n",
    "import matplotlib.pyplot as plt\n",
    "from pgmpy.models import BayesianModel\n",
    "from pgmpy.estimators import MaximumLikelihoodEstimator\n",
    "from pgmpy.estimators import BayesianEstimator\n",
    "from pgmpy.inference import VariableElimination\n",
    "import networkx as nx"
   ]
  },
  {
   "cell_type": "code",
   "execution_count": 12,
   "metadata": {
    "ExecuteTime": {
     "end_time": "2021-04-13T08:38:09.280520Z",
     "start_time": "2021-04-13T08:38:09.267524Z"
    }
   },
   "outputs": [
    {
     "data": {
      "text/html": [
       "<div>\n",
       "<style scoped>\n",
       "    .dataframe tbody tr th:only-of-type {\n",
       "        vertical-align: middle;\n",
       "    }\n",
       "\n",
       "    .dataframe tbody tr th {\n",
       "        vertical-align: top;\n",
       "    }\n",
       "\n",
       "    .dataframe thead th {\n",
       "        text-align: right;\n",
       "    }\n",
       "</style>\n",
       "<table border=\"1\" class=\"dataframe\">\n",
       "  <thead>\n",
       "    <tr style=\"text-align: right;\">\n",
       "      <th></th>\n",
       "      <th>CT</th>\n",
       "      <th>UCSI</th>\n",
       "      <th>UCSH</th>\n",
       "      <th>MA</th>\n",
       "      <th>SECS</th>\n",
       "      <th>BN</th>\n",
       "      <th>BC</th>\n",
       "      <th>NN</th>\n",
       "      <th>M</th>\n",
       "      <th>C</th>\n",
       "    </tr>\n",
       "  </thead>\n",
       "  <tbody>\n",
       "    <tr>\n",
       "      <th>0</th>\n",
       "      <td>5</td>\n",
       "      <td>1</td>\n",
       "      <td>1</td>\n",
       "      <td>1</td>\n",
       "      <td>2</td>\n",
       "      <td>1</td>\n",
       "      <td>3</td>\n",
       "      <td>1</td>\n",
       "      <td>1</td>\n",
       "      <td>2</td>\n",
       "    </tr>\n",
       "    <tr>\n",
       "      <th>1</th>\n",
       "      <td>5</td>\n",
       "      <td>4</td>\n",
       "      <td>4</td>\n",
       "      <td>5</td>\n",
       "      <td>7</td>\n",
       "      <td>10</td>\n",
       "      <td>3</td>\n",
       "      <td>2</td>\n",
       "      <td>1</td>\n",
       "      <td>2</td>\n",
       "    </tr>\n",
       "    <tr>\n",
       "      <th>2</th>\n",
       "      <td>3</td>\n",
       "      <td>1</td>\n",
       "      <td>1</td>\n",
       "      <td>1</td>\n",
       "      <td>2</td>\n",
       "      <td>2</td>\n",
       "      <td>3</td>\n",
       "      <td>1</td>\n",
       "      <td>1</td>\n",
       "      <td>2</td>\n",
       "    </tr>\n",
       "    <tr>\n",
       "      <th>3</th>\n",
       "      <td>6</td>\n",
       "      <td>8</td>\n",
       "      <td>8</td>\n",
       "      <td>1</td>\n",
       "      <td>3</td>\n",
       "      <td>4</td>\n",
       "      <td>3</td>\n",
       "      <td>7</td>\n",
       "      <td>1</td>\n",
       "      <td>2</td>\n",
       "    </tr>\n",
       "    <tr>\n",
       "      <th>4</th>\n",
       "      <td>4</td>\n",
       "      <td>1</td>\n",
       "      <td>1</td>\n",
       "      <td>3</td>\n",
       "      <td>2</td>\n",
       "      <td>1</td>\n",
       "      <td>3</td>\n",
       "      <td>1</td>\n",
       "      <td>1</td>\n",
       "      <td>2</td>\n",
       "    </tr>\n",
       "  </tbody>\n",
       "</table>\n",
       "</div>"
      ],
      "text/plain": [
       "   CT  UCSI  UCSH  MA  SECS  BN  BC  NN  M  C\n",
       "0   5     1     1   1     2   1   3   1  1  2\n",
       "1   5     4     4   5     7  10   3   2  1  2\n",
       "2   3     1     1   1     2   2   3   1  1  2\n",
       "3   6     8     8   1     3   4   3   7  1  2\n",
       "4   4     1     1   3     2   1   3   1  1  2"
      ]
     },
     "execution_count": 12,
     "metadata": {},
     "output_type": "execute_result"
    }
   ],
   "source": [
    "data = pd.read_csv('breast-cancer.csv')\n",
    "data.drop(['SCN'], axis=1, inplace=True)\n",
    "data.head()"
   ]
  },
  {
   "cell_type": "code",
   "execution_count": 13,
   "metadata": {
    "ExecuteTime": {
     "end_time": "2021-04-13T08:38:10.082112Z",
     "start_time": "2021-04-13T08:38:09.939118Z"
    }
   },
   "outputs": [],
   "source": [
    "#构建模型\n",
    "model = BayesianModel([('UCSI', 'C'), ('UCSI', 'UCSH'), ('NN', 'C'), ('C', 'UCSH'), ('C', 'BC'), ('UCSI', 'BC'), ('UCSI', 'MA'), ('UCSI', 'SECS'), ('C', 'M'), ('C', 'BN'), ('C', 'CT')])\n",
    "model.fit(data, estimator=MaximumLikelihoodEstimator)"
   ]
  },
  {
   "cell_type": "code",
   "execution_count": 14,
   "metadata": {
    "ExecuteTime": {
     "end_time": "2021-04-13T08:38:10.846383Z",
     "start_time": "2021-04-13T08:38:10.682961Z"
    }
   },
   "outputs": [
    {
     "data": {
      "image/png": "[encoded data removed]",
      "text/plain": [
       "<Figure size 648x576 with 1 Axes>"
      ]
     },
     "metadata": {},
     "output_type": "display_data"
    }
   ],
   "source": [
    "#绘制贝叶斯图\n",
    "fid, ax = plt.subplots(figsize=(9,8))\n",
    "positions = {'CT':(1,6), 'UCSI':(6,3), 'UCSH':(4,5), 'MA':(8,6), 'SECS':(8,0),'BN':(0,3), 'BC':(4,7), 'NN':(4,1), 'M':(1,0), 'C':(2,3)}\n",
    "\n",
    "nx.draw(model, pos=positions, with_labels=True, node_size= 4000, font_size = 20, arrowsize=20, node_color='blue', ax=ax)"
   ]
  },
  {
   "cell_type": "code",
   "execution_count": 15,
   "metadata": {
    "ExecuteTime": {
     "end_time": "2021-04-13T08:38:13.078945Z",
     "start_time": "2021-04-13T08:38:13.073258Z"
    }
   },
   "outputs": [
    {
     "data": {
      "text/plain": [
       "True"
      ]
     },
     "execution_count": 15,
     "metadata": {},
     "output_type": "execute_result"
    }
   ],
   "source": [
    "model.check_model()"
   ]
  },
  {
   "cell_type": "code",
   "execution_count": 16,
   "metadata": {
    "ExecuteTime": {
     "end_time": "2021-04-13T08:38:14.457350Z",
     "start_time": "2021-04-13T08:38:14.453233Z"
    }
   },
   "outputs": [
    {
     "data": {
      "text/plain": [
       "[<TabularCPD representing P(BC:10 | C:2, UCSI:10) at 0x7fb789469e20>,\n",
       " <TabularCPD representing P(BN:11 | C:2) at 0x7fb788fa8df0>,\n",
       " <TabularCPD representing P(C:2 | NN:10, UCSI:10) at 0x7fb78f7f6e20>,\n",
       " <TabularCPD representing P(CT:10 | C:2) at 0x7fb78f7f3070>,\n",
       " <TabularCPD representing P(M:9 | C:2) at 0x7fb78f7f3a30>,\n",
       " <TabularCPD representing P(MA:10 | UCSI:10) at 0x7fb78f7f6ca0>,\n",
       " <TabularCPD representing P(NN:10) at 0x7fb78f41f850>,\n",
       " <TabularCPD representing P(SECS:10 | UCSI:10) at 0x7fb78f7ef0d0>,\n",
       " <TabularCPD representing P(UCSH:10 | C:2, UCSI:10) at 0x7fb78fb71b20>,\n",
       " <TabularCPD representing P(UCSI:10) at 0x7fb78fb71eb0>]"
      ]
     },
     "execution_count": 16,
     "metadata": {},
     "output_type": "execute_result"
    }
   ],
   "source": [
    "model.get_cpds()"
   ]
  },
  {
   "cell_type": "markdown",
   "metadata": {},
   "source": [
    "#### 推理(Inference)"
   ]
  },
  {
   "cell_type": "markdown",
   "metadata": {},
   "source": [
    "问题1： 如果细胞大小均匀性(Uniformity of Cell Size)为8且正常核仁(Normal Nucleoli)为1，则患者属于哪一类？"
   ]
  },
  {
   "cell_type": "code",
   "execution_count": 20,
   "metadata": {
    "ExecuteTime": {
     "end_time": "2021-04-13T08:51:44.963655Z",
     "start_time": "2021-04-13T08:51:44.838690Z"
    }
   },
   "outputs": [
    {
     "name": "stderr",
     "output_type": "stream",
     "text": [
      "Finding Elimination Order: :   0%|          | 0/7 [00:00<?, ?it/s]\n",
      "  0%|          | 0/7 [00:00<?, ?it/s]\u001b[A\n",
      "Eliminating: BN:   0%|          | 0/7 [00:00<?, ?it/s]\u001b[A\n",
      "Eliminating: BC:   0%|          | 0/7 [00:00<?, ?it/s]\u001b[A\n",
      "Eliminating: SECS:   0%|          | 0/7 [00:00<?, ?it/s]\u001b[A\n",
      "Finding Elimination Order: : 100%|██████████| 7/7 [00:00<00:00, 283.68it/s]\n",
      "\n",
      "Eliminating: M:   0%|          | 0/7 [00:00<?, ?it/s] \u001b[A\n",
      "Eliminating: MA:   0%|          | 0/7 [00:00<?, ?it/s]\u001b[A\n",
      "Eliminating: UCSH: 100%|██████████| 7/7 [00:00<00:00, 215.74it/s]"
     ]
    },
    {
     "name": "stdout",
     "output_type": "stream",
     "text": [
      "{'C': 4}\n"
     ]
    },
    {
     "name": "stderr",
     "output_type": "stream",
     "text": [
      "\n"
     ]
    }
   ],
   "source": [
    "inference = VariableElimination(model)\n",
    "#请补充问题1代码\n",
    "query1 = inference.map_query(variables=['C'], evidence={ 'UCSI':8,'NN':1 })\n",
    "print(query1)"
   ]
  },
  {
   "cell_type": "markdown",
   "metadata": {},
   "source": [
    "问题2：假设类别(Class)为良性且细胞大小的均匀性(Uniformity of Cell Size)为1，则细胞形状均匀性(Uniformity of Cell Shape)的可能值是多少？"
   ]
  },
  {
   "cell_type": "code",
   "execution_count": 21,
   "metadata": {
    "ExecuteTime": {
     "end_time": "2021-04-13T08:52:48.389565Z",
     "start_time": "2021-04-13T08:52:48.301891Z"
    }
   },
   "outputs": [
    {
     "name": "stderr",
     "output_type": "stream",
     "text": [
      "Finding Elimination Order: :   0%|          | 0/7 [00:00<?, ?it/s]\n",
      "  0%|          | 0/7 [00:00<?, ?it/s]\u001b[A\n",
      "Eliminating: BN:   0%|          | 0/7 [00:00<?, ?it/s]\u001b[A\n",
      "Eliminating: BC:   0%|          | 0/7 [00:00<?, ?it/s]\u001b[A\n",
      "Eliminating: SECS:   0%|          | 0/7 [00:00<?, ?it/s]\u001b[A\n",
      "Eliminating: CT:   0%|          | 0/7 [00:00<?, ?it/s]  \u001b[A\n",
      "Eliminating: M:   0%|          | 0/7 [00:00<?, ?it/s] \u001b[A\n",
      "Eliminating: MA:   0%|          | 0/7 [00:00<?, ?it/s]\u001b[A\n",
      "Eliminating: NN: 100%|██████████| 7/7 [00:00<00:00, 437.67it/s]"
     ]
    },
    {
     "name": "stdout",
     "output_type": "stream",
     "text": [
      "{'UCSH': 1}\n"
     ]
    },
    {
     "name": "stderr",
     "output_type": "stream",
     "text": [
      "\n"
     ]
    }
   ],
   "source": [
    "#请补充问题2代码\n",
    "query2 = inference.map_query(variables=['UCSH'], evidence={'UCSI':1,'C':2    })\n",
    "print(query2)"
   ]
  },
  {
   "cell_type": "markdown",
   "metadata": {},
   "source": [
    "问题3：在细胞大小均匀度值(Uniformity of Cell Size)为4的恶性类患者(malignant Class)中观察到哪种类型的Bland染色体(Bland Chromatin)？"
   ]
  },
  {
   "cell_type": "code",
   "execution_count": 22,
   "metadata": {
    "ExecuteTime": {
     "end_time": "2021-04-13T08:54:07.799949Z",
     "start_time": "2021-04-13T08:54:07.724232Z"
    }
   },
   "outputs": [
    {
     "name": "stderr",
     "output_type": "stream",
     "text": [
      "Finding Elimination Order: :   0%|          | 0/8 [00:00<?, ?it/s]\n",
      "  0%|          | 0/8 [00:00<?, ?it/s]\u001b[A\n",
      "Eliminating: BN:   0%|          | 0/8 [00:00<?, ?it/s]\u001b[A\n",
      "Eliminating: SECS:   0%|          | 0/8 [00:00<?, ?it/s]\u001b[A\n",
      "Eliminating: NN:   0%|          | 0/8 [00:00<?, ?it/s]  \u001b[A\n",
      "Eliminating: MA:   0%|          | 0/8 [00:00<?, ?it/s]\u001b[A\n",
      "Eliminating: CT:   0%|          | 0/8 [00:00<?, ?it/s]\u001b[A\n",
      "Eliminating: M:   0%|          | 0/8 [00:00<?, ?it/s] \u001b[A\n",
      "Eliminating: UCSH:   0%|          | 0/8 [00:00<?, ?it/s]\u001b[A\n",
      "Eliminating: C: 100%|██████████| 8/8 [00:00<00:00, 431.29it/s]"
     ]
    },
    {
     "name": "stdout",
     "output_type": "stream",
     "text": [
      "{'BC': 4}\n"
     ]
    },
    {
     "name": "stderr",
     "output_type": "stream",
     "text": [
      "\n"
     ]
    }
   ],
   "source": [
    "#请补充问题3代码\n",
    "query3 = inference.map_query(variables=['BC'], evidence={ 'UCSI':4 })\n",
    "print(query3)"
   ]
  },
  {
   "cell_type": "markdown",
   "metadata": {},
   "source": [
    "问题4：假设样本具有单元大小1的均匀性( Uniformity of Cell Size)，则可预测样本的单个上皮细胞大小(Single Epithelial Cell Size)。"
   ]
  },
  {
   "cell_type": "code",
   "execution_count": 23,
   "metadata": {
    "ExecuteTime": {
     "end_time": "2021-04-13T08:55:07.339451Z",
     "start_time": "2021-04-13T08:55:07.258432Z"
    }
   },
   "outputs": [
    {
     "name": "stderr",
     "output_type": "stream",
     "text": [
      "Finding Elimination Order: :   0%|          | 0/8 [00:00<?, ?it/s]\n",
      "  0%|          | 0/8 [00:00<?, ?it/s]\u001b[A\n",
      "Eliminating: BN:   0%|          | 0/8 [00:00<?, ?it/s]\u001b[A\n",
      "Eliminating: BC:   0%|          | 0/8 [00:00<?, ?it/s]\u001b[A\n",
      "Eliminating: NN:   0%|          | 0/8 [00:00<?, ?it/s]\u001b[A\n",
      "Eliminating: MA:   0%|          | 0/8 [00:00<?, ?it/s]\u001b[A\n",
      "Eliminating: CT:   0%|          | 0/8 [00:00<?, ?it/s]\u001b[A\n",
      "Eliminating: M:   0%|          | 0/8 [00:00<?, ?it/s] \u001b[A\n",
      "Eliminating: C:   0%|          | 0/8 [00:00<?, ?it/s]\u001b[A\n",
      "Eliminating: UCSH: 100%|██████████| 8/8 [00:00<00:00, 397.67it/s]"
     ]
    },
    {
     "name": "stdout",
     "output_type": "stream",
     "text": [
      "{'SECS': 2}\n"
     ]
    },
    {
     "name": "stderr",
     "output_type": "stream",
     "text": [
      "\n"
     ]
    }
   ],
   "source": [
    "#请补充问题4代码\n",
    "query4 = inference.map_query(variables=['SECS'], evidence={'UCSI':1})\n",
    "print(query4)"
   ]
  },
  {
   "cell_type": "markdown",
   "metadata": {},
   "source": [
    "问题5：如果患者的类别是良性(Class benign)，有丝分裂(Mitosis)的最可能值是什么？"
   ]
  },
  {
   "cell_type": "code",
   "execution_count": 24,
   "metadata": {
    "ExecuteTime": {
     "end_time": "2021-04-13T08:55:14.026865Z",
     "start_time": "2021-04-13T08:55:13.935541Z"
    }
   },
   "outputs": [
    {
     "name": "stderr",
     "output_type": "stream",
     "text": [
      "Finding Elimination Order: : 100%|██████████| 8/8 [00:06<00:00,  1.21it/s]\n",
      "Finding Elimination Order: :   0%|          | 0/8 [00:00<?, ?it/s]\n",
      "  0%|          | 0/8 [00:00<?, ?it/s]\u001b[A\n",
      "Eliminating: BN:   0%|          | 0/8 [00:00<?, ?it/s]\u001b[A\n",
      "Eliminating: BC:   0%|          | 0/8 [00:00<?, ?it/s]\u001b[A\n",
      "Eliminating: SECS:   0%|          | 0/8 [00:00<?, ?it/s]\u001b[A\n",
      "Eliminating: NN:   0%|          | 0/8 [00:00<?, ?it/s]  \u001b[A\n",
      "Eliminating: MA:   0%|          | 0/8 [00:00<?, ?it/s]\u001b[A\n",
      "Eliminating: CT:   0%|          | 0/8 [00:00<?, ?it/s]\u001b[A\n",
      "Eliminating: UCSH:   0%|          | 0/8 [00:00<?, ?it/s]\u001b[A\n",
      "Eliminating: UCSI: 100%|██████████| 8/8 [00:00<00:00, 233.17it/s]"
     ]
    },
    {
     "name": "stdout",
     "output_type": "stream",
     "text": [
      "{'M': 1}\n"
     ]
    },
    {
     "name": "stderr",
     "output_type": "stream",
     "text": [
      "\n"
     ]
    }
   ],
   "source": [
    "#请补充问题5代码\n",
    "query5 = inference.map_query(variables=['M'], evidence={'C':2 })\n",
    "print(query5)"
   ]
  },
  {
   "cell_type": "code",
   "execution_count": 25,
   "metadata": {
    "ExecuteTime": {
     "end_time": "2021-04-13T08:55:17.073697Z",
     "start_time": "2021-04-13T08:55:17.039684Z"
    }
   },
   "outputs": [
    {
     "data": {
      "text/html": [
       "<div>\n",
       "<style scoped>\n",
       "    .dataframe tbody tr th:only-of-type {\n",
       "        vertical-align: middle;\n",
       "    }\n",
       "\n",
       "    .dataframe tbody tr th {\n",
       "        vertical-align: top;\n",
       "    }\n",
       "\n",
       "    .dataframe thead th {\n",
       "        text-align: right;\n",
       "    }\n",
       "</style>\n",
       "<table border=\"1\" class=\"dataframe\">\n",
       "  <thead>\n",
       "    <tr style=\"text-align: right;\">\n",
       "      <th></th>\n",
       "      <th>Query1</th>\n",
       "      <th>Query2</th>\n",
       "      <th>Query3</th>\n",
       "      <th>Query4</th>\n",
       "      <th>Query5</th>\n",
       "    </tr>\n",
       "  </thead>\n",
       "  <tbody>\n",
       "    <tr>\n",
       "      <th>0</th>\n",
       "      <td>C</td>\n",
       "      <td>UCSH</td>\n",
       "      <td>BC</td>\n",
       "      <td>SECS</td>\n",
       "      <td>M</td>\n",
       "    </tr>\n",
       "    <tr>\n",
       "      <th>1</th>\n",
       "      <td>4</td>\n",
       "      <td>1</td>\n",
       "      <td>4</td>\n",
       "      <td>2</td>\n",
       "      <td>1</td>\n",
       "    </tr>\n",
       "  </tbody>\n",
       "</table>\n",
       "</div>"
      ],
      "text/plain": [
       "  Query1 Query2 Query3 Query4 Query5\n",
       "0      C   UCSH     BC   SECS      M\n",
       "1      4      1      4      2      1"
      ]
     },
     "execution_count": 25,
     "metadata": {},
     "output_type": "execute_result"
    }
   ],
   "source": [
    "infe = {'Query1': [[key for key in query1.keys()][0], [value for value in query1.values()][0]],\n",
    "        'Query2': [[key for key in query2.keys()][0], [value for value in query2.values()][0]],\n",
    "        'Query3': [[key for key in query3.keys()][0], [value for value in query3.values()][0]],\n",
    "        'Query4': [[key for key in query4.keys()][0], [value for value in query4.values()][0]],\n",
    "        'Query5': [[key for key in query5.keys()][0], [value for value in query5.values()][0]]}\n",
    "\n",
    "result = pd.DataFrame(infe)\n",
    "result.to_csv('output.csv', index=False)\n",
    "result"
   ]
  },
  {
   "cell_type": "markdown",
   "metadata": {},
   "source": [
    "## 预测"
   ]
  },
  {
   "cell_type": "code",
   "execution_count": 26,
   "metadata": {
    "ExecuteTime": {
     "end_time": "2021-04-13T08:55:19.931196Z",
     "start_time": "2021-04-13T08:55:19.922980Z"
    }
   },
   "outputs": [
    {
     "name": "stdout",
     "output_type": "stream",
     "text": [
      "     CT  UCSI  UCSH  MA  SECS  BN  BC  NN  M  C\n",
      "0     5     1     1   1     2   1   3   1  1  2\n",
      "1     5     4     4   5     7  10   3   2  1  2\n",
      "2     3     1     1   1     2   2   3   1  1  2\n",
      "3     6     8     8   1     3   4   3   7  1  2\n",
      "4     4     1     1   3     2   1   3   1  1  2\n",
      "..   ..   ...   ...  ..   ...  ..  ..  .. .. ..\n",
      "694   3     1     1   1     3   2   1   1  1  2\n",
      "695   2     1     1   1     2   1   1   1  1  2\n",
      "696   5    10    10   3     7   3   8  10  2  4\n",
      "697   4     8     6   4     3   4  10   6  1  4\n",
      "698   4     8     8   5     4   5  10   4  1  4\n",
      "\n",
      "[699 rows x 10 columns]\n"
     ]
    }
   ],
   "source": [
    "print(data)"
   ]
  },
  {
   "cell_type": "code",
   "execution_count": 27,
   "metadata": {
    "ExecuteTime": {
     "end_time": "2021-04-13T08:55:20.910178Z",
     "start_time": "2021-04-13T08:55:20.906351Z"
    }
   },
   "outputs": [],
   "source": [
    "train_data = data[:500].copy()\n",
    "predict_data= data[500:].copy()"
   ]
  },
  {
   "cell_type": "code",
   "execution_count": 28,
   "metadata": {
    "ExecuteTime": {
     "end_time": "2021-04-13T08:55:21.662616Z",
     "start_time": "2021-04-13T08:55:21.658959Z"
    }
   },
   "outputs": [],
   "source": [
    "model = BayesianModel([('UCSI', 'C'), ('UCSI', 'UCSH'), ('NN', 'C'), ('C', 'UCSH'), ('C', 'BC'), ('UCSI', 'BC'), ('UCSI', 'MA'), ('UCSI', 'SECS'), ('C', 'M'), ('C', 'BN'), ('C', 'CT')])"
   ]
  },
  {
   "cell_type": "code",
   "execution_count": 29,
   "metadata": {
    "ExecuteTime": {
     "end_time": "2021-04-13T10:04:39.339216Z",
     "start_time": "2021-04-13T10:04:39.253747Z"
    }
   },
   "outputs": [],
   "source": [
    "#请完成预测代码\n",
    "model.fit(data, estimator=BayesianEstimator)"
   ]
  },
  {
   "cell_type": "markdown",
   "metadata": {},
   "source": [
    "对细胞大小的均匀性(UCSI)和类别(C)进行预测。"
   ]
  },
  {
   "cell_type": "code",
   "execution_count": 30,
   "metadata": {
    "ExecuteTime": {
     "end_time": "2021-04-13T10:04:46.329102Z",
     "start_time": "2021-04-13T10:04:40.695980Z"
    }
   },
   "outputs": [
    {
     "name": "stderr",
     "output_type": "stream",
     "text": [
      "100%|██████████| 124/124 [00:05<00:00, 23.70it/s]\n"
     ]
    },
    {
     "data": {
      "text/html": [
       "<div>\n",
       "<style scoped>\n",
       "    .dataframe tbody tr th:only-of-type {\n",
       "        vertical-align: middle;\n",
       "    }\n",
       "\n",
       "    .dataframe tbody tr th {\n",
       "        vertical-align: top;\n",
       "    }\n",
       "\n",
       "    .dataframe thead th {\n",
       "        text-align: right;\n",
       "    }\n",
       "</style>\n",
       "<table border=\"1\" class=\"dataframe\">\n",
       "  <thead>\n",
       "    <tr style=\"text-align: right;\">\n",
       "      <th></th>\n",
       "      <th>C</th>\n",
       "      <th>UCSI</th>\n",
       "    </tr>\n",
       "  </thead>\n",
       "  <tbody>\n",
       "    <tr>\n",
       "      <th>0</th>\n",
       "      <td>2</td>\n",
       "      <td>1</td>\n",
       "    </tr>\n",
       "    <tr>\n",
       "      <th>1</th>\n",
       "      <td>2</td>\n",
       "      <td>1</td>\n",
       "    </tr>\n",
       "    <tr>\n",
       "      <th>2</th>\n",
       "      <td>2</td>\n",
       "      <td>1</td>\n",
       "    </tr>\n",
       "    <tr>\n",
       "      <th>3</th>\n",
       "      <td>2</td>\n",
       "      <td>1</td>\n",
       "    </tr>\n",
       "    <tr>\n",
       "      <th>4</th>\n",
       "      <td>2</td>\n",
       "      <td>1</td>\n",
       "    </tr>\n",
       "    <tr>\n",
       "      <th>...</th>\n",
       "      <td>...</td>\n",
       "      <td>...</td>\n",
       "    </tr>\n",
       "    <tr>\n",
       "      <th>194</th>\n",
       "      <td>2</td>\n",
       "      <td>1</td>\n",
       "    </tr>\n",
       "    <tr>\n",
       "      <th>195</th>\n",
       "      <td>2</td>\n",
       "      <td>1</td>\n",
       "    </tr>\n",
       "    <tr>\n",
       "      <th>196</th>\n",
       "      <td>4</td>\n",
       "      <td>10</td>\n",
       "    </tr>\n",
       "    <tr>\n",
       "      <th>197</th>\n",
       "      <td>4</td>\n",
       "      <td>8</td>\n",
       "    </tr>\n",
       "    <tr>\n",
       "      <th>198</th>\n",
       "      <td>4</td>\n",
       "      <td>8</td>\n",
       "    </tr>\n",
       "  </tbody>\n",
       "</table>\n",
       "<p>199 rows × 2 columns</p>\n",
       "</div>"
      ],
      "text/plain": [
       "     C  UCSI\n",
       "0    2     1\n",
       "1    2     1\n",
       "2    2     1\n",
       "3    2     1\n",
       "4    2     1\n",
       "..  ..   ...\n",
       "194  2     1\n",
       "195  2     1\n",
       "196  4    10\n",
       "197  4     8\n",
       "198  4     8\n",
       "\n",
       "[199 rows x 2 columns]"
      ]
     },
     "execution_count": 30,
     "metadata": {},
     "output_type": "execute_result"
    }
   ],
   "source": [
    "#请补充完善下面代码\n",
    "predict_data.drop(['UCSI','C'], axis=1, inplace=True)\n",
    "\n",
    "#请补充完善下面代码\n",
    "y_pred = model.predict(predict_data)\n",
    "y_pred"
   ]
  },
  {
   "cell_type": "code",
   "execution_count": 31,
   "metadata": {
    "ExecuteTime": {
     "end_time": "2021-04-13T10:05:21.596649Z",
     "start_time": "2021-04-13T10:05:21.591236Z"
    }
   },
   "outputs": [],
   "source": [
    "y_pred = y_pred.to_numpy()\n",
    "#请补充完善下面代码\n",
    "y_data = data[['UCSI','C']][500:].to_numpy()"
   ]
  },
  {
   "cell_type": "code",
   "execution_count": 32,
   "metadata": {
    "ExecuteTime": {
     "end_time": "2021-04-13T10:05:23.717363Z",
     "start_time": "2021-04-13T10:05:23.709593Z"
    }
   },
   "outputs": [
    {
     "name": "stdout",
     "output_type": "stream",
     "text": [
      "Accuracy of prediction : \n",
      "细胞大小的均匀性:  7.54 %\n",
      "类型:  5.03 %\n"
     ]
    }
   ],
   "source": [
    "UCSI=0\n",
    "C=0\n",
    "\n",
    "for i in range(0,len(y_pred)):\n",
    "    if y_pred[i][0] == y_data[i][0]:\n",
    "        UCSI += 1\n",
    "    if y_pred[i][1] == y_data[i][1]:\n",
    "        C += 1\n",
    "\n",
    "UCSI = (UCSI/len(y_data))*100\n",
    "C = (C/len(y_data))*100\n",
    "\n",
    "print(\"Accuracy of prediction : \")\n",
    "print(\"细胞大小的均匀性: \", round(UCSI,2), \"%\")\n",
    "print(\"类型: \", round(C,2), \"%\")"
   ]
  }
 ],
 "metadata": {
  "kernelspec": {
   "display_name": "Python 3",
   "language": "python",
   "name": "python3"
  },
  "language_info": {
   "codemirror_mode": {
    "name": "ipython",
    "version": 3
   },
   "file_extension": ".py",
   "mimetype": "text/x-python",
   "name": "python",
   "nbconvert_exporter": "python",
   "pygments_lexer": "ipython3",
   "version": "3.8.5"
  }
 },
 "nbformat": 4,
 "nbformat_minor": 4
}
