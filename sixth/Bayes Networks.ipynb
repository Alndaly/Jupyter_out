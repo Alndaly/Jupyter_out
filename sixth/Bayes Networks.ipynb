{
 "cells": [
  {
   "cell_type": "markdown",
   "metadata": {},
   "source": [
    "# 贝叶斯模型\n",
    "\n",
    "机器学习是一门科学学科，它探索可从数据中学习的算法的构建和研究。 这样的算法通过根据示例输入构建模型并使用该模型进行预测或决策来运行，而不是严格遵循静态程序指令。\n",
    "\n",
    "我们可以举一个基于花的萼片长度和宽度来预测花的类型的例子。 假设我们有一些数据（基于萼片长度和宽度的离散虹膜数据集）。 数据集看起来像这样： "
   ]
  },
  {
   "cell_type": "code",
   "execution_count": null,
   "metadata": {},
   "outputs": [],
   "source": [
    "# 安装需要的包\n",
    "!pip install -r requirements.txt\n",
    "# 安装成功后，安装pgmpy\n",
    "!pip install pgmpy"
   ]
  },
  {
   "cell_type": "code",
   "execution_count": 46,
   "metadata": {},
   "outputs": [],
   "source": [
    "import numpy as np\n",
    "import pandas as pd\n",
    "from sklearn.datasets import load_iris\n",
    "from IPython.display import Image\n",
    "\n",
    "iris = load_iris()\n",
    "mini_iris = np.round(iris.data[:, :2]).astype(int)\n",
    "data = pd.DataFrame(mini_iris, columns=['length', 'width'])\n",
    "data['type'] = iris.target\n",
    "\n",
    "#Shuffle data\n",
    "data = data.iloc[np.random.permutation(len(data))]"
   ]
  },
  {
   "cell_type": "markdown",
   "metadata": {},
   "source": [
    "### 2.从数据中学习的不同方式 \n",
    "\n",
    "现在假设我们要预测新给定数据点的花朵类型。 有多种方法可以解决此问题。 我们将更详细地考虑这两种方式：\n",
    "\n",
    "1.我们可以找到一个可以将输入值直接映射到其类标签的函数。\n",
    "2.我们可以找到变量的概率分布，然后使用该分布来回答有关新数据点的查询。\n",
    "\n",
    "查找映射功能的算法很多。 例如，线性回归试图找到解释数据的线性方程。 支持向量机试图找到一个分离数据点的平面。 决策树试图找到一组大于和小于的简单方程式来对数据进行分类。 让我们尝试在此数据集上应用决策树。\n",
    "\n",
    "我们可以绘制数据，看起来像这样："
   ]
  },
  {
   "cell_type": "code",
   "execution_count": 47,
   "metadata": {},
   "outputs": [
    {
     "data": {
      "text/plain": [
       "<matplotlib.collections.PathCollection at 0x2aae97c3988>"
      ]
     },
     "execution_count": 47,
     "metadata": {},
     "output_type": "execute_result"
    },
    {
     "data": {
      "image/png": "[encoded data removed]",
      "text/plain": [
       "<Figure size 432x288 with 1 Axes>"
      ]
     },
     "metadata": {
      "needs_background": "light"
     },
     "output_type": "display_data"
    }
   ],
   "source": [
    "%matplotlib inline\n",
    "import matplotlib.pyplot as plt\n",
    "import numpy as np\n",
    "\n",
    "# Adding a little bit of noise so that it's easier to visualize\n",
    "data_with_noise = data.iloc[:, :2] + np.random.normal(loc=0, scale=0.1, size=(150, 2))\n",
    "#data_with_noise = data\n",
    "plt.scatter(data_with_noise.length, data_with_noise.width, c=[ \"bgr\"[k] for k in data.iloc[:,2] ], s=200, alpha=0.3)"
   ]
  },
  {
   "cell_type": "markdown",
   "metadata": {},
   "source": [
    "在该图中，我们可以轻松地看到蓝点集中在左上角，绿色点集中在左下角，红色点集中在右上角。\n",
    "\n",
    "现在，让我们尝试在此数据上训练决策树。"
   ]
  },
  {
   "cell_type": "code",
   "execution_count": 48,
   "metadata": {},
   "outputs": [
    {
     "data": {
      "text/plain": [
       "array([1, 1, 0, 0, 1, 0, 1, 1, 1, 2, 0, 0, 1, 0, 0, 1, 1, 1, 1, 0, 1, 0,\n",
       "       1, 1, 1, 1, 0, 2, 0, 1])"
      ]
     },
     "execution_count": 48,
     "metadata": {},
     "output_type": "execute_result"
    }
   ],
   "source": [
    "from sklearn.tree import DecisionTreeClassifier\n",
    "from sklearn.model_selection import train_test_split\n",
    "\n",
    "X_train, X_test, y_train, y_test = train_test_split(data[['length', 'width']].values, data.type.values, test_size=0.2)\n",
    "\n",
    "classifier = DecisionTreeClassifier(max_depth=3)\n",
    "classifier.fit(X_train, y_train)\n",
    "classifier.predict(X_test)"
   ]
  },
  {
   "cell_type": "code",
   "execution_count": 49,
   "metadata": {},
   "outputs": [
    {
     "data": {
      "text/plain": [
       "0.7"
      ]
     },
     "execution_count": 49,
     "metadata": {},
     "output_type": "execute_result"
    }
   ],
   "source": [
    "classifier.score(X_test, y_test)"
   ]
  },
  {
   "cell_type": "markdown",
   "metadata": {},
   "source": [
    "因此，在这种情况下，我们的分类精度为70％。\n",
    "\n",
    "现在，使用概率模型继续我们的第二种方法。 完成此分类任务的最明显方法是对所有这些变量计算联合概率分布，然后根据我们的新数据点对这些变量进行边际化和约化以获得类的概率。"
   ]
  },
  {
   "cell_type": "code",
   "execution_count": 50,
   "metadata": {},
   "outputs": [],
   "source": [
    "X_train, X_test = data[:120], data[120:]"
   ]
  },
  {
   "cell_type": "code",
   "execution_count": 51,
   "metadata": {},
   "outputs": [
    {
     "data": {
      "text/html": [
       "<div>\n",
       "<style scoped>\n",
       "    .dataframe tbody tr th:only-of-type {\n",
       "        vertical-align: middle;\n",
       "    }\n",
       "\n",
       "    .dataframe tbody tr th {\n",
       "        vertical-align: top;\n",
       "    }\n",
       "\n",
       "    .dataframe thead th {\n",
       "        text-align: right;\n",
       "    }\n",
       "</style>\n",
       "<table border=\"1\" class=\"dataframe\">\n",
       "  <thead>\n",
       "    <tr style=\"text-align: right;\">\n",
       "      <th></th>\n",
       "      <th>length</th>\n",
       "      <th>width</th>\n",
       "      <th>type</th>\n",
       "    </tr>\n",
       "  </thead>\n",
       "  <tbody>\n",
       "    <tr>\n",
       "      <th>50</th>\n",
       "      <td>7</td>\n",
       "      <td>3</td>\n",
       "      <td>1</td>\n",
       "    </tr>\n",
       "    <tr>\n",
       "      <th>74</th>\n",
       "      <td>6</td>\n",
       "      <td>3</td>\n",
       "      <td>1</td>\n",
       "    </tr>\n",
       "    <tr>\n",
       "      <th>29</th>\n",
       "      <td>5</td>\n",
       "      <td>3</td>\n",
       "      <td>0</td>\n",
       "    </tr>\n",
       "    <tr>\n",
       "      <th>66</th>\n",
       "      <td>6</td>\n",
       "      <td>3</td>\n",
       "      <td>1</td>\n",
       "    </tr>\n",
       "    <tr>\n",
       "      <th>82</th>\n",
       "      <td>6</td>\n",
       "      <td>3</td>\n",
       "      <td>1</td>\n",
       "    </tr>\n",
       "    <tr>\n",
       "      <th>...</th>\n",
       "      <td>...</td>\n",
       "      <td>...</td>\n",
       "      <td>...</td>\n",
       "    </tr>\n",
       "    <tr>\n",
       "      <th>140</th>\n",
       "      <td>7</td>\n",
       "      <td>3</td>\n",
       "      <td>2</td>\n",
       "    </tr>\n",
       "    <tr>\n",
       "      <th>117</th>\n",
       "      <td>8</td>\n",
       "      <td>4</td>\n",
       "      <td>2</td>\n",
       "    </tr>\n",
       "    <tr>\n",
       "      <th>118</th>\n",
       "      <td>8</td>\n",
       "      <td>3</td>\n",
       "      <td>2</td>\n",
       "    </tr>\n",
       "    <tr>\n",
       "      <th>3</th>\n",
       "      <td>5</td>\n",
       "      <td>3</td>\n",
       "      <td>0</td>\n",
       "    </tr>\n",
       "    <tr>\n",
       "      <th>115</th>\n",
       "      <td>6</td>\n",
       "      <td>3</td>\n",
       "      <td>2</td>\n",
       "    </tr>\n",
       "  </tbody>\n",
       "</table>\n",
       "<p>120 rows × 3 columns</p>\n",
       "</div>"
      ],
      "text/plain": [
       "     length  width  type\n",
       "50        7      3     1\n",
       "74        6      3     1\n",
       "29        5      3     0\n",
       "66        6      3     1\n",
       "82        6      3     1\n",
       "..      ...    ...   ...\n",
       "140       7      3     2\n",
       "117       8      4     2\n",
       "118       8      3     2\n",
       "3         5      3     0\n",
       "115       6      3     2\n",
       "\n",
       "[120 rows x 3 columns]"
      ]
     },
     "execution_count": 51,
     "metadata": {},
     "output_type": "execute_result"
    }
   ],
   "source": [
    "X_train"
   ]
  },
  {
   "cell_type": "code",
   "execution_count": 52,
   "metadata": {},
   "outputs": [
    {
     "data": {
      "text/plain": [
       "length  width  type\n",
       "4       2      0       0.008333\n",
       "        3      0       0.033333\n",
       "5       2      1       0.025000\n",
       "               2       0.008333\n",
       "        3      0       0.141667\n",
       "               1       0.008333\n",
       "        4      0       0.133333\n",
       "6       2      1       0.066667\n",
       "               2       0.016667\n",
       "        3      1       0.200000\n",
       "               2       0.133333\n",
       "        4      0       0.033333\n",
       "7       2      2       0.008333\n",
       "        3      1       0.058333\n",
       "               2       0.075000\n",
       "        4      2       0.008333\n",
       "8       3      2       0.033333\n",
       "        4      2       0.008333\n",
       "dtype: float64"
      ]
     },
     "execution_count": 52,
     "metadata": {},
     "output_type": "execute_result"
    }
   ],
   "source": [
    "# Computing the joint probability distribution over the training data\n",
    "joint_prob = X_train.groupby(['length', 'width', 'type']).size() / 120\n",
    "joint_prob"
   ]
  },
  {
   "cell_type": "code",
   "execution_count": 53,
   "metadata": {},
   "outputs": [
    {
     "data": {
      "text/plain": [
       "array([0, 1, 0, 2, 0, 1, 0, 1, 0, 1, 2, 0, 2, 1, 1, 1, 1, 1, 0, 1, 1, 1,\n",
       "       1, 2, 2, 0, 2, 1, 0, 2], dtype=int64)"
      ]
     },
     "execution_count": 53,
     "metadata": {},
     "output_type": "execute_result"
    }
   ],
   "source": [
    "# Predicting values\n",
    "\n",
    "# Selecting just the feature variables.\n",
    "X_test_features = X_test.iloc[:, :2].values\n",
    "X_test_actual_results = X_test.iloc[:, 2].values\n",
    "\n",
    "predicted_values = []\n",
    "for i in X_test_features:\n",
    "    predicted_values.append(joint_prob[i[0], i[1]].idxmax())\n",
    "    \n",
    "predicted_values = np.array(predicted_values)\n",
    "predicted_values"
   ]
  },
  {
   "cell_type": "code",
   "execution_count": 54,
   "metadata": {},
   "outputs": [
    {
     "data": {
      "text/plain": [
       "array([ True,  True, False,  True,  True,  True,  True,  True,  True,\n",
       "       False,  True,  True,  True, False, False,  True, False,  True,\n",
       "        True, False, False, False, False,  True,  True,  True, False,\n",
       "       False,  True,  True])"
      ]
     },
     "execution_count": 54,
     "metadata": {},
     "output_type": "execute_result"
    }
   ],
   "source": [
    "# Comparing results with the actual data.\n",
    "predicted_values == X_test_actual_results"
   ]
  },
  {
   "cell_type": "code",
   "execution_count": 55,
   "metadata": {},
   "outputs": [
    {
     "name": "stdout",
     "output_type": "stream",
     "text": [
      "0.6333333333333333\n"
     ]
    }
   ],
   "source": [
    "score = (predicted_values == X_test_actual_results).sum() / 30\n",
    "print(score)"
   ]
  },
  {
   "cell_type": "markdown",
   "metadata": {},
   "source": [
    "### 为什么要使用概率图形模型\n",
    "\n",
    "在前面的示例中，我们了解了贝叶斯推理的工作原理。 我们根据数据构造一个联合分布，然后根据观察到的变量来计算后验分布。 然后，我们查询此后验分布以预测新数据点的值。"
   ]
  },
  {
   "cell_type": "markdown",
   "metadata": {},
   "source": [
    "但是这种方法的问题是联合概率分布与每个变量的状态数（基数）成指数关系。 因此，对于具有很多特征或特征基数高的问题，由于计算限制，推理成为一项困难的任务。 例如，对于每个具有10个状态的10个随机变量，联合分布的大小将为10^10。"
   ]
  },
  {
   "cell_type": "markdown",
   "metadata": {},
   "source": [
    "__概率图形模型（PGM）__：PGM是一种通过利用变量之间的（条件）独立性来紧凑地表示随机变量上的联合概率分布的技术。 PGM还为我们提供了有效地对这些联合分布进行推断的方法。\n",
    "\n",
    "每个图形模型的特征是图形结构（可以是有向的，无向的或两者都有）和与每个图形关联的一组参数。\n",
    "\n",
    "可以使用贝叶斯模型（一种图形模型）将上述示例中的问题表示为："
   ]
  },
  {
   "cell_type": "code",
   "execution_count": 23,
   "metadata": {},
   "outputs": [
    {
     "data": {
      "image/png": "[encoded data removed]",
      "text/plain": [
       "<IPython.core.display.Image object>"
      ]
     },
     "execution_count": 23,
     "metadata": {},
     "output_type": "execute_result"
    }
   ],
   "source": [
    "Image(filename='./images/1/Iris_BN.png')"
   ]
  },
  {
   "cell_type": "markdown",
   "metadata": {},
   "source": [
    "在这种情况下，网络的参数将是$P(L)$，$ P(W)$和$P(T|L,W)$。 因此，我们将需要为$ L $存储5个值，为$ W $存储3个值，为$ P(T|L,W)$存储45个值。 因此，总共需要45 + 5 + 3 = 53个值来完全对网络进行参数化，实际上这是我们需要$P(T,L,W)$的45个以上的值。 但是在较大的网络中，图形模型有助于节省空间。 我们可以以如下所示的学生网络为例："
   ]
  },
  {
   "cell_type": "code",
   "execution_count": 24,
   "metadata": {},
   "outputs": [
    {
     "data": {
      "image/png": "[encoded data removed]",
      "text/plain": [
       "<IPython.core.display.Image object>"
      ]
     },
     "execution_count": 24,
     "metadata": {},
     "output_type": "execute_result"
    }
   ],
   "source": [
    "Image(filename='./images/1/student.png')"
   ]
  },
  {
   "cell_type": "markdown",
   "metadata": {},
   "source": [
    "考虑到$ D $的基数为2，$ I $的基数为2，$ S $的基数为2，$ G $的基数为3，$ L $的基数为2。 $ P(D)$，$ P(I)$，$ P(S|I)$，$ P(G|D,I)$，$P(L|G)$。 因此，所需的值数将是：$ 2 $ for $ P(D)$，$ 2 $ for $ P(I)$，$ 12 $ for $ P(G|D，I）$，$ 6 $ for $ P(L|G)$，$P(S|I)$的$ 4 $，总计$ 4 + 6 + 12 + 2 + 2 = 26 $，而所有变量的联合分配需要 $ 2 * 2 * 3 * 2 * 2 = 48 $。"
   ]
  },
  {
   "cell_type": "markdown",
   "metadata": {},
   "source": [
    "#### 图形模型的类型\n",
    "\n",
    "主要有两种类型的图形模型：\n",
    "1.贝叶斯模型：贝叶斯模型由有向图和与每个节点关联的条件概率分布（CPD）组成。 每个CPD的格式为$P(节点|父节点(节点))$，其中$ parent(节点)$是图结构中节点的父节点。\n",
    "2.马尔可夫模型：马尔可夫模型由无向图组成，并由“因子”参数化。 因子表示两个或多个变量彼此一致。"
   ]
  },
  {
   "cell_type": "markdown",
   "metadata": {},
   "source": [
    "### 2.什么是贝叶斯模型\n",
    "贝叶斯网络，贝叶斯网络，信念网络，贝叶斯（Bayes）模型或概率有向非循环图形模型是概率图形模型（一种统计模型），它通过有向无环图表示一组随机变量及其条件相关性（ DAG）。 当我们要表示随机变量之间的因果关系时，通常使用贝叶斯网络。 使用条件概率分布（CPD）对贝叶斯网络进行参数化。 使用$P(node| Pa(node))$参数化网络中的每个节点，其中$Pa(node)$代表网络中节点的父节点。\n",
    "\n",
    "我们可以以学生模型为例："
   ]
  },
  {
   "cell_type": "code",
   "execution_count": 25,
   "metadata": {},
   "outputs": [
    {
     "data": {
      "image/png": "[encoded data removed]",
      "text/plain": [
       "<IPython.core.display.Image object>"
      ]
     },
     "execution_count": 25,
     "metadata": {},
     "output_type": "execute_result"
    }
   ],
   "source": [
    "Image('./images/2/student_full_param.png')"
   ]
  },
  {
   "cell_type": "markdown",
   "metadata": {},
   "source": [
    "在pgmpy中，我们分别定义网络结构和CPD，然后将它们与该结构相关联。 这是定义上述模型的示例："
   ]
  },
  {
   "cell_type": "code",
   "execution_count": 26,
   "metadata": {},
   "outputs": [],
   "source": [
    "from pgmpy.models import BayesianModel\n",
    "from pgmpy.factors.discrete import TabularCPD\n",
    "\n",
    "# Defining the model structure. We can define the network by just passing a list of edges.\n",
    "model = BayesianModel([('D', 'G'), ('I', 'G'), ('G', 'L'), ('I', 'S')])"
   ]
  },
  {
   "cell_type": "code",
   "execution_count": 27,
   "metadata": {},
   "outputs": [
    {
     "data": {
      "text/plain": [
       "True"
      ]
     },
     "execution_count": 27,
     "metadata": {},
     "output_type": "execute_result"
    }
   ],
   "source": [
    "# Defining individual CPDs.\n",
    "cpd_d = TabularCPD(variable='D', variable_card=2, values=[[0.6], [0.4]])\n",
    "cpd_i = TabularCPD(variable='I', variable_card=2, values=[[0.7], [0.3]])\n",
    "\n",
    "# The representation of CPD in pgmpy is a bit different than the CPD shown in the above picture. In pgmpy the colums\n",
    "# are the evidences and rows are the states of the variable. So the grade CPD is represented like this:\n",
    "#\n",
    "#    +---------+---------+---------+---------+---------+\n",
    "#    | diff    | intel_0 | intel_0 | intel_1 | intel_1 |\n",
    "#    +---------+---------+---------+---------+---------+\n",
    "#    | intel   | diff_0  | diff_1  | diff_0  | diff_1  |\n",
    "#    +---------+---------+---------+---------+---------+\n",
    "#    | grade_0 | 0.3     | 0.05    | 0.9     | 0.5     |\n",
    "#    +---------+---------+---------+---------+---------+\n",
    "#    | grade_1 | 0.4     | 0.25    | 0.08    | 0.3     |\n",
    "#    +---------+---------+---------+---------+---------+\n",
    "#    | grade_2 | 0.3     | 0.7     | 0.02    | 0.2     |\n",
    "#    +---------+---------+---------+---------+---------+\n",
    "\n",
    "cpd_g = TabularCPD(variable='G', variable_card=3, \n",
    "                   values=[[0.3, 0.05, 0.9,  0.5],\n",
    "                           [0.4, 0.25, 0.08, 0.3],\n",
    "                           [0.3, 0.7,  0.02, 0.2]],\n",
    "                  evidence=['I', 'D'],\n",
    "                  evidence_card=[2, 2])\n",
    "\n",
    "cpd_l = TabularCPD(variable='L', variable_card=2, \n",
    "                   values=[[0.1, 0.4, 0.99],\n",
    "                           [0.9, 0.6, 0.01]],\n",
    "                   evidence=['G'],\n",
    "                   evidence_card=[3])\n",
    "\n",
    "cpd_s = TabularCPD(variable='S', variable_card=2,\n",
    "                   values=[[0.95, 0.2],\n",
    "                           [0.05, 0.8]],\n",
    "                   evidence=['I'],\n",
    "                   evidence_card=[2])\n",
    "\n",
    "# Associating the CPDs with the network\n",
    "model.add_cpds(cpd_d, cpd_i, cpd_g, cpd_l, cpd_s)\n",
    "\n",
    "# check_model checks for the network structure and CPDs and verifies that the CPDs are correctly \n",
    "# defined and sum to 1.\n",
    "model.check_model()"
   ]
  },
  {
   "cell_type": "code",
   "execution_count": 28,
   "metadata": {},
   "outputs": [
    {
     "name": "stderr",
     "output_type": "stream",
     "text": [
      "WARNING:root:Replacing existing CPD for D\n",
      "WARNING:root:Replacing existing CPD for I\n",
      "WARNING:root:Replacing existing CPD for G\n",
      "WARNING:root:Replacing existing CPD for L\n",
      "WARNING:root:Replacing existing CPD for S\n"
     ]
    },
    {
     "data": {
      "text/plain": [
       "True"
      ]
     },
     "execution_count": 28,
     "metadata": {},
     "output_type": "execute_result"
    }
   ],
   "source": [
    "# CPDs can also be defined using the state names of the variables. If the state names are not provided\n",
    "# like in the previous example, pgmpy will automatically assign names as: 0, 1, 2, ....\n",
    "\n",
    "cpd_d_sn = TabularCPD(variable='D', variable_card=2, values=[[0.6], [0.4]], state_names={'D': ['Easy', 'Hard']})\n",
    "cpd_i_sn = TabularCPD(variable='I', variable_card=2, values=[[0.7], [0.3]], state_names={'I': ['Dumb', 'Intelligent']})\n",
    "cpd_g_sn = TabularCPD(variable='G', variable_card=3, \n",
    "                      values=[[0.3, 0.05, 0.9,  0.5],\n",
    "                              [0.4, 0.25, 0.08, 0.3],\n",
    "                              [0.3, 0.7,  0.02, 0.2]],\n",
    "                      evidence=['I', 'D'],\n",
    "                      evidence_card=[2, 2],\n",
    "                      state_names={'G': ['A', 'B', 'C'],\n",
    "                                   'I': ['Dumb', 'Intelligent'],\n",
    "                                   'D': ['Easy', 'Hard']})\n",
    "\n",
    "cpd_l_sn = TabularCPD(variable='L', variable_card=2, \n",
    "                      values=[[0.1, 0.4, 0.99],\n",
    "                              [0.9, 0.6, 0.01]],\n",
    "                      evidence=['G'],\n",
    "                      evidence_card=[3],\n",
    "                      state_names={'L': ['Bad', 'Good'],\n",
    "                                   'G': ['A', 'B', 'C']})\n",
    "\n",
    "cpd_s_sn = TabularCPD(variable='S', variable_card=2,\n",
    "                      values=[[0.95, 0.2],\n",
    "                              [0.05, 0.8]],\n",
    "                      evidence=['I'],\n",
    "                      evidence_card=[2],\n",
    "                      state_names={'S': ['Bad', 'Good'],\n",
    "                                   'I': ['Dumb', 'Intelligent']})\n",
    "\n",
    "# These defined CPDs can be added to the model. Since, the model already has CPDs associated to variables, it will\n",
    "# show warning that pmgpy is now replacing those CPDs with the new ones.\n",
    "model.add_cpds(cpd_d_sn, cpd_i_sn, cpd_g_sn, cpd_l_sn, cpd_s_sn)\n",
    "model.check_model()"
   ]
  },
  {
   "cell_type": "code",
   "execution_count": 29,
   "metadata": {},
   "outputs": [
    {
     "data": {
      "text/plain": [
       "[<TabularCPD representing P(D:2) at 0x2341a0ef288>,\n",
       " <TabularCPD representing P(I:2) at 0x2341a0ef248>,\n",
       " <TabularCPD representing P(G:3 | I:2, D:2) at 0x2341a0ef4c8>,\n",
       " <TabularCPD representing P(L:2 | G:3) at 0x2341a0ef388>,\n",
       " <TabularCPD representing P(S:2 | I:2) at 0x2341a0ef5c8>]"
      ]
     },
     "execution_count": 29,
     "metadata": {},
     "output_type": "execute_result"
    }
   ],
   "source": [
    "# We can now call some methods on the BayesianModel object.\n",
    "model.get_cpds()"
   ]
  },
  {
   "cell_type": "code",
   "execution_count": 30,
   "metadata": {},
   "outputs": [
    {
     "name": "stdout",
     "output_type": "stream",
     "text": [
      "+------+------+------+------+------+\n",
      "| I    | I(0) | I(0) | I(1) | I(1) |\n",
      "+------+------+------+------+------+\n",
      "| D    | D(0) | D(1) | D(0) | D(1) |\n",
      "+------+------+------+------+------+\n",
      "| G(0) | 0.3  | 0.05 | 0.9  | 0.5  |\n",
      "+------+------+------+------+------+\n",
      "| G(1) | 0.4  | 0.25 | 0.08 | 0.3  |\n",
      "+------+------+------+------+------+\n",
      "| G(2) | 0.3  | 0.7  | 0.02 | 0.2  |\n",
      "+------+------+------+------+------+\n"
     ]
    }
   ],
   "source": [
    "# Printing a CPD which doesn't have state names defined.\n",
    "print(cpd_g)"
   ]
  },
  {
   "cell_type": "code",
   "execution_count": 31,
   "metadata": {},
   "outputs": [
    {
     "name": "stdout",
     "output_type": "stream",
     "text": [
      "+------+---------+---------+----------------+----------------+\n",
      "| I    | I(Dumb) | I(Dumb) | I(Intelligent) | I(Intelligent) |\n",
      "+------+---------+---------+----------------+----------------+\n",
      "| D    | D(Easy) | D(Hard) | D(Easy)        | D(Hard)        |\n",
      "+------+---------+---------+----------------+----------------+\n",
      "| G(A) | 0.3     | 0.05    | 0.9            | 0.5            |\n",
      "+------+---------+---------+----------------+----------------+\n",
      "| G(B) | 0.4     | 0.25    | 0.08           | 0.3            |\n",
      "+------+---------+---------+----------------+----------------+\n",
      "| G(C) | 0.3     | 0.7     | 0.02           | 0.2            |\n",
      "+------+---------+---------+----------------+----------------+\n"
     ]
    }
   ],
   "source": [
    "# Printing a CPD with it's state names defined.\n",
    "print(model.get_cpds('G'))"
   ]
  },
  {
   "cell_type": "code",
   "execution_count": 33,
   "metadata": {},
   "outputs": [
    {
     "data": {
      "text/plain": [
       "3"
      ]
     },
     "execution_count": 33,
     "metadata": {},
     "output_type": "execute_result"
    }
   ],
   "source": [
    "model.get_cardinality('G')"
   ]
  },
  {
   "cell_type": "markdown",
   "metadata": {},
   "source": [
    "### 2.贝叶斯网络中的独立性\n",
    "\n",
    "贝叶斯网络的网络结构所隐含的独立性可以分为两种类型：\n",
    "1. __局部独立性：__网络中的任何变量均独立于其父代的非后代。 数学上可以写成：$$(X \\perp NonDesc(X)| Pa(X)$$\n",
    "其中$ NonDesc(X)$是不是$ X $的后代的变量集，而$ Pa（X）$是$ X $的父代的变量集。\n",
    "\n",
    "2. __全球独立性：__为了讨论贝叶斯网络中的全球独立性，我们需要研究各种可能的网络结构。\n",
    "从2个节点开始，只有两种可能的连接方式："
   ]
  },
  {
   "cell_type": "code",
   "execution_count": 34,
   "metadata": {},
   "outputs": [
    {
     "data": {
      "image/png": "[encoded data removed]",
      "text/plain": [
       "<IPython.core.display.Image object>"
      ]
     },
     "execution_count": 34,
     "metadata": {},
     "output_type": "execute_result"
    }
   ],
   "source": [
    "Image('./images/2/two_nodes.png')"
   ]
  },
  {
   "cell_type": "markdown",
   "metadata": {},
   "source": [
    "在以上两种情况下，很明显，任何一个节点的更改都会影响另一个节点。 对于第一种情况，我们可以以$难度\\rightarrow等级$为例。 如果我们增加了课程的难度，那么获得更高等级的可能性就会降低。 对于第二种情况，我们可以以$ SAT \\leftarrow Intel $为例。 现在，如果我们增加在SAT考试中获得好成绩的可能性，这意味着学生很聪明，因此增加了$ i_1 $的可能性。 因此，在上述两种情况下，变量的任何变化都会导致另一个变量的变化。\n",
    "\n",
    "现在，在3个节点之间有四种可能的连接方式："
   ]
  },
  {
   "cell_type": "code",
   "execution_count": 35,
   "metadata": {},
   "outputs": [
    {
     "data": {
      "image/png": "[encoded data removed]",
      "text/plain": [
       "<IPython.core.display.Image object>"
      ]
     },
     "execution_count": 35,
     "metadata": {},
     "output_type": "execute_result"
    }
   ],
   "source": [
    "Image('./images/2/three_nodes.png')"
   ]
  },
  {
   "cell_type": "markdown",
   "metadata": {},
   "source": [
    "现在，在上述情况下，我们将看到在各种情况下从$ A $到$ C $的影响流。\n",
    "\n",
    "1. __原因__：在一般情况下，当我们对变量$ A $进行任何更改时，它将具有变量$ B $的作用（如上所述），而$ B $的更改将更改$ C$中的值。 。另一种可能的情况是观察到$ B $时，即我们知道$ B $的值。因此，在这种情况下，$ A $的任何更改都不会影响$ B $，因为我们已经知道该值。因此，$ C $不会有任何变化，因为它仅取决于$ B $。从数学上讲，我们可以说：$(A \\perp C |B)$。\n",
    "2. __证据：__同样，在这种情况下，也观察$ B $使$ C $独立于$ A $。否则，当未观察到$ B $时，影响力将从$ A $流向$ C $。因此，$(A \\perp C | B)$。\n",
    "3. __共同的证据__:这种情况与其他情况有些不同。当未观察到$ B $时，$ A $的任何变化都反映了$ B $的某些变化，但没有反映$ C $的变化。让我们以$ D \\rightarrow G \\leftarrow I $为例。在这种情况下，如果我们增加了课程的难度，那么获得更高分数的可能性就会降低，但这不会影响学生的智力。但是，当观察到$ B $时，我们假设该学生获得了良好的成绩。现在，如果我们增加课程难度，这将增加学生变得聪明的可能性，因为我们已经知道他的成绩很好。因此，在这种情况下，$(A \\perp C)$和$(A \\not \\perp C|B)$。该结构也通常被称为V结构。\n",
    "4. __共同原因：__当未观察到$ B $时，影响力从$ A $流向$ C $。但是，当观察到$ B $且$ A $的更改不会影响$ C $，因为它仅取决于$ B $。因此，这里也是$(A \\perp C|B)$。\n",
    "\n",
    "让我们不看看使用pgmpy在newtork中查找独立性的几个示例："
   ]
  },
  {
   "cell_type": "code",
   "execution_count": 36,
   "metadata": {},
   "outputs": [
    {
     "data": {
      "text/plain": [
       "(G ⟂ S | D, I)"
      ]
     },
     "execution_count": 36,
     "metadata": {},
     "output_type": "execute_result"
    }
   ],
   "source": [
    "# Getting the local independencies of a variable.\n",
    "model.local_independencies('G')"
   ]
  },
  {
   "cell_type": "code",
   "execution_count": 37,
   "metadata": {},
   "outputs": [
    {
     "data": {
      "text/plain": [
       "(D ⟂ I, S)\n",
       "(I ⟂ D)\n",
       "(S ⟂ G, D, L | I)\n",
       "(G ⟂ S | D, I)\n",
       "(L ⟂ D, I, S | G)"
      ]
     },
     "execution_count": 37,
     "metadata": {},
     "output_type": "execute_result"
    }
   ],
   "source": [
    "# Getting all the local independencies in the network.\n",
    "model.local_independencies(['D', 'I', 'S', 'G', 'L'])"
   ]
  },
  {
   "cell_type": "code",
   "execution_count": 38,
   "metadata": {},
   "outputs": [
    {
     "data": {
      "text/plain": [
       "{'D': {'D', 'G', 'L'}}"
      ]
     },
     "execution_count": 38,
     "metadata": {},
     "output_type": "execute_result"
    }
   ],
   "source": [
    "# Active trail：对于网络中的任何两个变量A和B，如果A的任何变化都会影响B的值，那么我们说A和B之间存在活动路径。\n",
    "# 在pgmpy中，active_trail_nodes给出了一组受参数传递的节点的任何变化影响（即相关）的节点。\n",
    "model.active_trail_nodes('D')"
   ]
  },
  {
   "cell_type": "code",
   "execution_count": 39,
   "metadata": {},
   "outputs": [
    {
     "data": {
      "text/plain": [
       "{'D': {'D', 'I', 'S'}}"
      ]
     },
     "execution_count": 39,
     "metadata": {},
     "output_type": "execute_result"
    }
   ],
   "source": [
    "model.active_trail_nodes('D', observed='G')"
   ]
  },
  {
   "cell_type": "markdown",
   "metadata": {},
   "source": [
    "### 3.这个贝叶斯网络如何表示变量的联合分布？\n",
    "到现在为止，我们一直在考虑贝叶斯网络可以表示联合分布而没有任何证据。 现在，让我们看看如何从贝叶斯网络中计算联合分布。\n",
    "\n",
    "根据概率的链式规则，我们知道：\n",
    "$$ P(A,B)= P(A|B)* P(B)$$\n",
    "\n",
    "现在在这种情况下：\n",
    "$$ P(D,I,G,L,S)= P(L|S,G,D,I)* P(S|G,D,I)* P(G|D,I)* P(D|I)* P(I)$$\n",
    "\n",
    "将本地独立性条件应用到上面的方程中，我们将得到：\n",
    "$$ P(D,I,G,L,S)= P(L|G)* P(S|I)* P(G|D,I)* P(D)* P(I)$$\n",
    "\n",
    "从上面的方程式中，我们可以清楚地看到，所有变量的联合分布只是网络中所有CPD的乘积。 因此，以图形结构对联合分布中的独立性进行编码有助于我们减少了需要存储的参数数量。"
   ]
  },
  {
   "cell_type": "markdown",
   "metadata": {},
   "source": [
    "### 4.贝叶斯模型中的推论\n",
    "到目前为止，我们仅讨论了代表贝叶斯网络的问题。现在，让我们看看如何在贝叶斯模型中进行推理，并使用它来预测用于机器学习任务的新数据点上的值。在本节中，我们将考虑已经有我们的模型。在本教程的后面部分中，我们将讨论从数据构造模型。\n",
    "\n",
    "在推论中，我们尝试在给定其他变量的情况下通过网络回答概率查询。因此，鉴于他在SAT上的得分很高，我们可能想知道一个困难学生的聪明成绩。因此，为了从联合分布计算这些值，我们将必须减少给定变量$ I = 1 $，$ D = 1 $，$ S = 1 $，然后对其他变量$ L $进行边际化以得到$ P(G | I = 1,D = 1,S = 1)$。\n",
    "但是对整个联合分布进行边际化和归约运算在计算上是昂贵的，因为我们需要为每个运算迭代整个表，并且表是变量数量的指数。但是在图形模型中，我们利用独立性将这些操作分解为较小的部分，从而使其速度更快。\n",
    "\n",
    "图形模型中非常基本的推理方法之一是“变量消除(Variable Elimination)”。"
   ]
  },
  {
   "cell_type": "markdown",
   "metadata": {},
   "source": [
    "#### 变量消除\n",
    "我们知道：\n",
    "\n",
    "$ P(D,I,G,L,S)= P(L|G)* P(S|I)* P(G|D,I)* P(D)* P(I)$\n",
    "\n",
    "现在假设我们只想计算G的概率。为此，我们将需要对所有其他变量进行边际化。\n",
    "\n",
    "$ P(G)= \\sum_ {D,I,L,S} P(D,I,G,L,S)$\n",
    "$ P(G)= \\sum_ {D,I,L,S} P(L|G)* P(S|I)* P(G|D,I)* P(D)* P(I)$\n",
    "$ P(G)= \\sum_D \\sum_I \\sum_L \\sum_S P(L|G)* P(S|I)* P(G|D,I)* P(D)* P(I)$\n",
    "\n",
    "现在，由于并非所有条件分布都依赖于所有变量，因此我们可以将求和运算推入内部：\n",
    "\n",
    "$ P(G)= \\sum_D \\sum_I \\sum_L \\sum_S P(L|G)* P(S|I)* P(G|D,I)* P(D)* P(I)$\n",
    "$ P(G)= \\sum_D P(D)\\sum_I P(G|D,I)* P(I)\\sum_S P(S|I)\\sum_L P(L|G)$\n",
    "\n",
    "因此，通过将求和运算推入内部，我们节省了很多计算时间，因为我们现在必须遍历较小的表。\n",
    "\n",
    "让我们以在pgmpy中使用Variable Elimination进行推理的示例为例："
   ]
  },
  {
   "cell_type": "code",
   "execution_count": 40,
   "metadata": {},
   "outputs": [
    {
     "name": "stderr",
     "output_type": "stream",
     "text": [
      "Finding Elimination Order: : 100%|█████████████████████████████████████████████████████| 4/4 [00:00<00:00, 1999.67it/s]\n",
      "Eliminating: I: 100%|███████████████████████████████████████████████████████████████████| 4/4 [00:00<00:00, 999.83it/s]"
     ]
    },
    {
     "name": "stdout",
     "output_type": "stream",
     "text": [
      "+------+----------+\n",
      "| G    |   phi(G) |\n",
      "+======+==========+\n",
      "| G(A) |   0.3620 |\n",
      "+------+----------+\n",
      "| G(B) |   0.2884 |\n",
      "+------+----------+\n",
      "| G(C) |   0.3496 |\n",
      "+------+----------+\n"
     ]
    },
    {
     "name": "stderr",
     "output_type": "stream",
     "text": [
      "\n"
     ]
    }
   ],
   "source": [
    "from pgmpy.inference import VariableElimination\n",
    "infer = VariableElimination(model)\n",
    "g_dist = infer.query(['G'])\n",
    "print(g_dist)"
   ]
  },
  {
   "cell_type": "markdown",
   "metadata": {},
   "source": [
    "在某些情况下，我们想计算条件分布，例如$ P（G | D = 0，I = 1）$。 在这种情况下，我们需要对方程进行一些修改：\n",
    "\n",
    "$ P(G|D = 0,I = 1)= \\sum_L \\sum_S P(L|G)* P(S|I = 1)* P(G | D = 0,I = 1)* P(D = 0)* P(I = 1)$\n",
    "$ P(G|D = 0,I = 1)= P(D = 0)* P(I = 1)* P(G|D = 0,I = 1)* \\sum_L P(L|G)* \\sum_S P(S | I = 1)$\n",
    "\n",
    "在pgmpy中，在条件分布的情况下，我们只需要传递一个额外的参数即可："
   ]
  },
  {
   "cell_type": "code",
   "execution_count": 41,
   "metadata": {},
   "outputs": [
    {
     "name": "stderr",
     "output_type": "stream",
     "text": [
      "Finding Elimination Order: : 100%|███████████████████████████████████████████████████████████████| 2/2 [00:00<?, ?it/s]\n",
      "Eliminating: S: 100%|██████████████████████████████████████████████████████████████████| 2/2 [00:00<00:00, 1996.81it/s]"
     ]
    },
    {
     "name": "stdout",
     "output_type": "stream",
     "text": [
      "+------+----------+\n",
      "| G    |   phi(G) |\n",
      "+======+==========+\n",
      "| G(A) |   0.9000 |\n",
      "+------+----------+\n",
      "| G(B) |   0.0800 |\n",
      "+------+----------+\n",
      "| G(C) |   0.0200 |\n",
      "+------+----------+\n"
     ]
    },
    {
     "name": "stderr",
     "output_type": "stream",
     "text": [
      "\n"
     ]
    }
   ],
   "source": [
    "print(infer.query(['G'], evidence={'D': 'Easy', 'I': 'Intelligent'}))"
   ]
  },
  {
   "cell_type": "markdown",
   "metadata": {},
   "source": [
    "#### 从新数据点预测值\n",
    "从新数据点预测值与计算条件概率非常相似。 给定所有其他功能，我们需要查询我们需要预测的变量。 唯一的区别是，我们不是获取概率分布，而是对获取变量的最可能状态感兴趣。\n",
    "\n",
    "在pgmpy中，这称为MAP查询。 这是一个例子："
   ]
  },
  {
   "cell_type": "code",
   "execution_count": 42,
   "metadata": {},
   "outputs": [
    {
     "name": "stderr",
     "output_type": "stream",
     "text": [
      "Finding Elimination Order: : 100%|█████████████████████████████████████████████████████| 4/4 [00:00<00:00, 1999.91it/s]\n",
      "Eliminating: I: 100%|██████████████████████████████████████████████████████████████████| 4/4 [00:00<00:00, 1333.85it/s]\n"
     ]
    },
    {
     "data": {
      "text/plain": [
       "{'G': 'A'}"
      ]
     },
     "execution_count": 42,
     "metadata": {},
     "output_type": "execute_result"
    }
   ],
   "source": [
    "infer.map_query(['G'])"
   ]
  },
  {
   "cell_type": "code",
   "execution_count": 43,
   "metadata": {},
   "outputs": [
    {
     "name": "stderr",
     "output_type": "stream",
     "text": [
      "Finding Elimination Order: : 100%|█████████████████████████████████████████████████████| 2/2 [00:00<00:00, 2002.05it/s]\n",
      "Eliminating: S: 100%|██████████████████████████████████████████████████████████████████| 2/2 [00:00<00:00, 1032.06it/s]\n"
     ]
    },
    {
     "data": {
      "text/plain": [
       "{'G': 'A'}"
      ]
     },
     "execution_count": 43,
     "metadata": {},
     "output_type": "execute_result"
    }
   ],
   "source": [
    "infer.map_query(['G'], evidence={'D': 'Easy', 'I': 'Intelligent'})"
   ]
  },
  {
   "cell_type": "code",
   "execution_count": 44,
   "metadata": {},
   "outputs": [
    {
     "name": "stderr",
     "output_type": "stream",
     "text": [
      "Finding Elimination Order: : : 0it [00:00, ?it/s]\n",
      "0it [00:00, ?it/s]\n"
     ]
    },
    {
     "data": {
      "text/plain": [
       "{'G': 'A'}"
      ]
     },
     "execution_count": 44,
     "metadata": {},
     "output_type": "execute_result"
    }
   ],
   "source": [
    "infer.map_query(['G'], evidence={'D': 'Easy', 'I': 'Intelligent', 'L': 'Good', 'S': 'Good'})"
   ]
  },
  {
   "cell_type": "markdown",
   "metadata": {},
   "source": [
    "### 5.其他推论方法\n",
    "即使像变量消除之类的精确推理算法优化了推理任务，但在大型模型的情况下，它在计算上仍然非常昂贵。 对于这种情况，我们可以使用近似算法，例如消息传递算法，采样算法等。"
   ]
  },
  {
   "cell_type": "markdown",
   "metadata": {},
   "source": [
    "### 具体案例\n",
    "\n",
    "数据集：超重乳腺癌幸存者的参加者信息\n",
    "\n",
    "目标：模拟健康行为和习惯之间的相互关系，得出贝叶斯网络\n",
    "\n",
    "数据集包含以下变量：\n",
    "\n",
    "- PraticipantNumber：编号\n",
    "- TumorStage：参与者的病历，包括肿瘤特征\n",
    "- Neighborhood：邻里环境指数（Neighborhood）用于衡量步行能力。它的范围从0到6，得分越高表示附近的步行环境越好\n",
    "- Alochol：每月酒精摄入量\n",
    "- Smoke：抽烟，具有“是”或“否”的两个级别因子\n",
    "- Insomnia：失眠-具有“是”或“否”的两个因素\n",
    "- Depression：抑郁-两级因素，是或否\n",
    "- Education：教育-教育场所（在分析中不使用）\n",
    "- Sleep1：睡眠1-指睡眠障碍。规范为50，标准差为10。较高的分数表示睡眠质量较差\n",
    "- Sleep2：睡眠2-睡眠障碍。取平均值为50，标准差为10。\n",
    "- QOLp：生活质量（物理）。使用SF-36标尺，范围是0-100。分数越高，生活方式越好。\n",
    "- QOLm：生活质量（心理）。使用SF-36比例尺，范围是0-100。分数越高，生活方式越好。\n",
    "- Arthritis：关节炎-具有“是”或“否”的两个因素\n",
    "- Insulin：　胰岛素-范围从5-8 U / ml\n",
    "- CRP：C反应蛋白。范围12-16\n",
    "- Age：年龄-介于0-120之间\n",
    "- PA：PA是每天每分钟总计数的平均值（全天），因此代表了捕获活动总量的量度\n",
    "- BMI-体重指数（kg / m ^ 2）"
   ]
  },
  {
   "cell_type": "code",
   "execution_count": 2,
   "metadata": {},
   "outputs": [],
   "source": [
    "import numpy as np\n",
    "import pandas as pd\n",
    "import matplotlib.pyplot as plt\n",
    "from pgmpy.models import BayesianModel\n",
    "from pgmpy.estimators import MaximumLikelihoodEstimator\n",
    "from pgmpy.estimators import BayesianEstimator\n",
    "from pgmpy.inference import VariableElimination\n",
    "import networkx as nx"
   ]
  },
  {
   "cell_type": "code",
   "execution_count": 3,
   "metadata": {},
   "outputs": [
    {
     "data": {
      "text/html": [
       "<div>\n",
       "<style scoped>\n",
       "    .dataframe tbody tr th:only-of-type {\n",
       "        vertical-align: middle;\n",
       "    }\n",
       "\n",
       "    .dataframe tbody tr th {\n",
       "        vertical-align: top;\n",
       "    }\n",
       "\n",
       "    .dataframe thead th {\n",
       "        text-align: right;\n",
       "    }\n",
       "</style>\n",
       "<table border=\"1\" class=\"dataframe\">\n",
       "  <thead>\n",
       "    <tr style=\"text-align: right;\">\n",
       "      <th></th>\n",
       "      <th>ParticipantNumber</th>\n",
       "      <th>TumorStage</th>\n",
       "      <th>Neighborhood</th>\n",
       "      <th>Alcohol</th>\n",
       "      <th>Smoke</th>\n",
       "      <th>Insomnia</th>\n",
       "      <th>Depression</th>\n",
       "      <th>Education</th>\n",
       "      <th>Sleep1</th>\n",
       "      <th>Sleep2</th>\n",
       "      <th>QOLp</th>\n",
       "      <th>QOLm</th>\n",
       "      <th>Arthritis</th>\n",
       "      <th>Insulin</th>\n",
       "      <th>CRP</th>\n",
       "      <th>PA</th>\n",
       "      <th>BMI</th>\n",
       "      <th>Age</th>\n",
       "    </tr>\n",
       "  </thead>\n",
       "  <tbody>\n",
       "    <tr>\n",
       "      <th>0</th>\n",
       "      <td>1</td>\n",
       "      <td>Stage 2</td>\n",
       "      <td>4</td>\n",
       "      <td>8.25</td>\n",
       "      <td>No</td>\n",
       "      <td>No</td>\n",
       "      <td>No</td>\n",
       "      <td>Postgraduate school or degree</td>\n",
       "      <td>44.2</td>\n",
       "      <td>38.7</td>\n",
       "      <td>86.875</td>\n",
       "      <td>93.250000</td>\n",
       "      <td>No</td>\n",
       "      <td>6.620323</td>\n",
       "      <td>14.662970</td>\n",
       "      <td>248.645687</td>\n",
       "      <td>29.387755</td>\n",
       "      <td>53</td>\n",
       "    </tr>\n",
       "    <tr>\n",
       "      <th>1</th>\n",
       "      <td>2</td>\n",
       "      <td>Stage 1</td>\n",
       "      <td>1</td>\n",
       "      <td>17.00</td>\n",
       "      <td>No</td>\n",
       "      <td>No</td>\n",
       "      <td>Yes</td>\n",
       "      <td>Some college,  technical school or Associate D...</td>\n",
       "      <td>51.2</td>\n",
       "      <td>43.6</td>\n",
       "      <td>76.250</td>\n",
       "      <td>81.625000</td>\n",
       "      <td>Yes</td>\n",
       "      <td>6.588302</td>\n",
       "      <td>15.086824</td>\n",
       "      <td>241.912148</td>\n",
       "      <td>28.398718</td>\n",
       "      <td>67</td>\n",
       "    </tr>\n",
       "    <tr>\n",
       "      <th>2</th>\n",
       "      <td>3</td>\n",
       "      <td>Stage 1</td>\n",
       "      <td>2</td>\n",
       "      <td>25.50</td>\n",
       "      <td>No</td>\n",
       "      <td>No</td>\n",
       "      <td>No</td>\n",
       "      <td>Postgraduate school or degree</td>\n",
       "      <td>35.9</td>\n",
       "      <td>38.7</td>\n",
       "      <td>58.750</td>\n",
       "      <td>79.625000</td>\n",
       "      <td>No</td>\n",
       "      <td>5.773663</td>\n",
       "      <td>16.045979</td>\n",
       "      <td>408.521245</td>\n",
       "      <td>20.077335</td>\n",
       "      <td>54</td>\n",
       "    </tr>\n",
       "    <tr>\n",
       "      <th>3</th>\n",
       "      <td>4</td>\n",
       "      <td>Stage 3</td>\n",
       "      <td>3</td>\n",
       "      <td>0.00</td>\n",
       "      <td>No</td>\n",
       "      <td>No</td>\n",
       "      <td>Yes</td>\n",
       "      <td>Some college,  technical school or Associate D...</td>\n",
       "      <td>56.3</td>\n",
       "      <td>52.9</td>\n",
       "      <td>26.875</td>\n",
       "      <td>37.958333</td>\n",
       "      <td>No</td>\n",
       "      <td>6.898928</td>\n",
       "      <td>16.312136</td>\n",
       "      <td>177.601267</td>\n",
       "      <td>26.838648</td>\n",
       "      <td>66</td>\n",
       "    </tr>\n",
       "    <tr>\n",
       "      <th>4</th>\n",
       "      <td>5</td>\n",
       "      <td>Stage 2</td>\n",
       "      <td>4</td>\n",
       "      <td>10.25</td>\n",
       "      <td>Yes</td>\n",
       "      <td>Yes</td>\n",
       "      <td>Yes</td>\n",
       "      <td>Some college,  technical school or Associate D...</td>\n",
       "      <td>62.6</td>\n",
       "      <td>56.1</td>\n",
       "      <td>76.250</td>\n",
       "      <td>82.250000</td>\n",
       "      <td>Yes</td>\n",
       "      <td>5.349781</td>\n",
       "      <td>12.376667</td>\n",
       "      <td>142.443154</td>\n",
       "      <td>37.165193</td>\n",
       "      <td>50</td>\n",
       "    </tr>\n",
       "  </tbody>\n",
       "</table>\n",
       "</div>"
      ],
      "text/plain": [
       "   ParticipantNumber TumorStage  Neighborhood  Alcohol Smoke Insomnia  \\\n",
       "0                  1    Stage 2             4     8.25    No       No   \n",
       "1                  2    Stage 1             1    17.00    No       No   \n",
       "2                  3    Stage 1             2    25.50    No       No   \n",
       "3                  4    Stage 3             3     0.00    No       No   \n",
       "4                  5    Stage 2             4    10.25   Yes      Yes   \n",
       "\n",
       "  Depression                                          Education  Sleep1  \\\n",
       "0         No                      Postgraduate school or degree    44.2   \n",
       "1        Yes  Some college,  technical school or Associate D...    51.2   \n",
       "2         No                      Postgraduate school or degree    35.9   \n",
       "3        Yes  Some college,  technical school or Associate D...    56.3   \n",
       "4        Yes  Some college,  technical school or Associate D...    62.6   \n",
       "\n",
       "   Sleep2    QOLp       QOLm Arthritis   Insulin        CRP          PA  \\\n",
       "0    38.7  86.875  93.250000        No  6.620323  14.662970  248.645687   \n",
       "1    43.6  76.250  81.625000       Yes  6.588302  15.086824  241.912148   \n",
       "2    38.7  58.750  79.625000        No  5.773663  16.045979  408.521245   \n",
       "3    52.9  26.875  37.958333        No  6.898928  16.312136  177.601267   \n",
       "4    56.1  76.250  82.250000       Yes  5.349781  12.376667  142.443154   \n",
       "\n",
       "         BMI  Age  \n",
       "0  29.387755   53  \n",
       "1  28.398718   67  \n",
       "2  20.077335   54  \n",
       "3  26.838648   66  \n",
       "4  37.165193   50  "
      ]
     },
     "execution_count": 3,
     "metadata": {},
     "output_type": "execute_result"
    }
   ],
   "source": [
    "data = pd.read_csv('./dataset.csv')\n",
    "data.head()"
   ]
  },
  {
   "cell_type": "code",
   "execution_count": 4,
   "metadata": {},
   "outputs": [
    {
     "name": "stdout",
     "output_type": "stream",
     "text": [
      "<class 'pandas.core.frame.DataFrame'>\n",
      "RangeIndex: 303 entries, 0 to 302\n",
      "Data columns (total 18 columns):\n",
      "ParticipantNumber    303 non-null int64\n",
      "TumorStage           303 non-null object\n",
      "Neighborhood         303 non-null int64\n",
      "Alcohol              303 non-null float64\n",
      "Smoke                303 non-null object\n",
      "Insomnia             303 non-null object\n",
      "Depression           303 non-null object\n",
      "Education            303 non-null object\n",
      "Sleep1               303 non-null float64\n",
      "Sleep2               303 non-null float64\n",
      "QOLp                 303 non-null float64\n",
      "QOLm                 303 non-null float64\n",
      "Arthritis            303 non-null object\n",
      "Insulin              303 non-null float64\n",
      "CRP                  303 non-null float64\n",
      "PA                   303 non-null float64\n",
      "BMI                  303 non-null float64\n",
      "Age                  303 non-null int64\n",
      "dtypes: float64(9), int64(3), object(6)\n",
      "memory usage: 42.7+ KB\n"
     ]
    }
   ],
   "source": [
    "data.info()"
   ]
  },
  {
   "cell_type": "code",
   "execution_count": 58,
   "metadata": {},
   "outputs": [
    {
     "data": {
      "text/html": [
       "<div>\n",
       "<style scoped>\n",
       "    .dataframe tbody tr th:only-of-type {\n",
       "        vertical-align: middle;\n",
       "    }\n",
       "\n",
       "    .dataframe tbody tr th {\n",
       "        vertical-align: top;\n",
       "    }\n",
       "\n",
       "    .dataframe thead th {\n",
       "        text-align: right;\n",
       "    }\n",
       "</style>\n",
       "<table border=\"1\" class=\"dataframe\">\n",
       "  <thead>\n",
       "    <tr style=\"text-align: right;\">\n",
       "      <th></th>\n",
       "      <th>ParticipantNumber</th>\n",
       "      <th>TumorStage</th>\n",
       "      <th>Neighborhood</th>\n",
       "      <th>Alcohol</th>\n",
       "      <th>Smoke</th>\n",
       "      <th>Insomnia</th>\n",
       "      <th>Depression</th>\n",
       "      <th>Education</th>\n",
       "      <th>Sleep1</th>\n",
       "      <th>Sleep2</th>\n",
       "      <th>QOLp</th>\n",
       "      <th>QOLm</th>\n",
       "      <th>Arthritis</th>\n",
       "      <th>Insulin</th>\n",
       "      <th>CRP</th>\n",
       "      <th>PA</th>\n",
       "      <th>BMI</th>\n",
       "      <th>Age</th>\n",
       "    </tr>\n",
       "  </thead>\n",
       "  <tbody>\n",
       "    <tr>\n",
       "      <th>0</th>\n",
       "      <td>1</td>\n",
       "      <td>Stage 2</td>\n",
       "      <td>4</td>\n",
       "      <td>8.25</td>\n",
       "      <td>0</td>\n",
       "      <td>0</td>\n",
       "      <td>0</td>\n",
       "      <td>Postgraduate school or degree</td>\n",
       "      <td>44.2</td>\n",
       "      <td>38.7</td>\n",
       "      <td>86.875</td>\n",
       "      <td>93.250000</td>\n",
       "      <td>0</td>\n",
       "      <td>6.620323</td>\n",
       "      <td>14.662970</td>\n",
       "      <td>248.645687</td>\n",
       "      <td>29.387755</td>\n",
       "      <td>53</td>\n",
       "    </tr>\n",
       "    <tr>\n",
       "      <th>1</th>\n",
       "      <td>2</td>\n",
       "      <td>Stage 1</td>\n",
       "      <td>1</td>\n",
       "      <td>17.00</td>\n",
       "      <td>0</td>\n",
       "      <td>0</td>\n",
       "      <td>1</td>\n",
       "      <td>Some college,  technical school or Associate D...</td>\n",
       "      <td>51.2</td>\n",
       "      <td>43.6</td>\n",
       "      <td>76.250</td>\n",
       "      <td>81.625000</td>\n",
       "      <td>1</td>\n",
       "      <td>6.588302</td>\n",
       "      <td>15.086824</td>\n",
       "      <td>241.912148</td>\n",
       "      <td>28.398718</td>\n",
       "      <td>67</td>\n",
       "    </tr>\n",
       "    <tr>\n",
       "      <th>2</th>\n",
       "      <td>3</td>\n",
       "      <td>Stage 1</td>\n",
       "      <td>2</td>\n",
       "      <td>25.50</td>\n",
       "      <td>0</td>\n",
       "      <td>0</td>\n",
       "      <td>0</td>\n",
       "      <td>Postgraduate school or degree</td>\n",
       "      <td>35.9</td>\n",
       "      <td>38.7</td>\n",
       "      <td>58.750</td>\n",
       "      <td>79.625000</td>\n",
       "      <td>0</td>\n",
       "      <td>5.773663</td>\n",
       "      <td>16.045979</td>\n",
       "      <td>408.521245</td>\n",
       "      <td>20.077335</td>\n",
       "      <td>54</td>\n",
       "    </tr>\n",
       "    <tr>\n",
       "      <th>3</th>\n",
       "      <td>4</td>\n",
       "      <td>Stage 3</td>\n",
       "      <td>3</td>\n",
       "      <td>0.00</td>\n",
       "      <td>0</td>\n",
       "      <td>0</td>\n",
       "      <td>1</td>\n",
       "      <td>Some college,  technical school or Associate D...</td>\n",
       "      <td>56.3</td>\n",
       "      <td>52.9</td>\n",
       "      <td>26.875</td>\n",
       "      <td>37.958333</td>\n",
       "      <td>0</td>\n",
       "      <td>6.898928</td>\n",
       "      <td>16.312136</td>\n",
       "      <td>177.601267</td>\n",
       "      <td>26.838648</td>\n",
       "      <td>66</td>\n",
       "    </tr>\n",
       "    <tr>\n",
       "      <th>4</th>\n",
       "      <td>5</td>\n",
       "      <td>Stage 2</td>\n",
       "      <td>4</td>\n",
       "      <td>10.25</td>\n",
       "      <td>1</td>\n",
       "      <td>1</td>\n",
       "      <td>1</td>\n",
       "      <td>Some college,  technical school or Associate D...</td>\n",
       "      <td>62.6</td>\n",
       "      <td>56.1</td>\n",
       "      <td>76.250</td>\n",
       "      <td>82.250000</td>\n",
       "      <td>1</td>\n",
       "      <td>5.349781</td>\n",
       "      <td>12.376667</td>\n",
       "      <td>142.443154</td>\n",
       "      <td>37.165193</td>\n",
       "      <td>50</td>\n",
       "    </tr>\n",
       "  </tbody>\n",
       "</table>\n",
       "</div>"
      ],
      "text/plain": [
       "   ParticipantNumber TumorStage  Neighborhood  Alcohol  Smoke  Insomnia  \\\n",
       "0                  1    Stage 2             4     8.25      0         0   \n",
       "1                  2    Stage 1             1    17.00      0         0   \n",
       "2                  3    Stage 1             2    25.50      0         0   \n",
       "3                  4    Stage 3             3     0.00      0         0   \n",
       "4                  5    Stage 2             4    10.25      1         1   \n",
       "\n",
       "   Depression                                          Education  Sleep1  \\\n",
       "0           0                      Postgraduate school or degree    44.2   \n",
       "1           1  Some college,  technical school or Associate D...    51.2   \n",
       "2           0                      Postgraduate school or degree    35.9   \n",
       "3           1  Some college,  technical school or Associate D...    56.3   \n",
       "4           1  Some college,  technical school or Associate D...    62.6   \n",
       "\n",
       "   Sleep2    QOLp       QOLm  Arthritis   Insulin        CRP          PA  \\\n",
       "0    38.7  86.875  93.250000          0  6.620323  14.662970  248.645687   \n",
       "1    43.6  76.250  81.625000          1  6.588302  15.086824  241.912148   \n",
       "2    38.7  58.750  79.625000          0  5.773663  16.045979  408.521245   \n",
       "3    52.9  26.875  37.958333          0  6.898928  16.312136  177.601267   \n",
       "4    56.1  76.250  82.250000          1  5.349781  12.376667  142.443154   \n",
       "\n",
       "         BMI  Age  \n",
       "0  29.387755   53  \n",
       "1  28.398718   67  \n",
       "2  20.077335   54  \n",
       "3  26.838648   66  \n",
       "4  37.165193   50  "
      ]
     },
     "execution_count": 58,
     "metadata": {},
     "output_type": "execute_result"
    }
   ],
   "source": [
    "data.replace({'Yes':1,'No':0}, inplace=True)\n",
    "data.head()"
   ]
  },
  {
   "cell_type": "markdown",
   "metadata": {},
   "source": [
    "## Bayesian Network"
   ]
  },
  {
   "cell_type": "code",
   "execution_count": 59,
   "metadata": {},
   "outputs": [],
   "source": [
    "#定义贝叶斯模型\n",
    "model=BayesianModel([('Arthritis','QOLp'), ('Arthritis','BMI'), ('BMI','CRP'),('BMI','Insulin'),('BMI','QOLp'),('Smoke','BMI'),('Insulin','PA'),('Sleep2','PA'),('Sleep2','QOLm'),('Sleep2','QOLp'),('Depression','Arthritis'),('Depression','Sleep2'),('Depression','QOLm'),('Depression','Sleep1'),('Insomnia','Depression'),('Insomnia','Sleep1')])\n",
    "#采用最大似然法进行参数估计\n",
    "model.fit(data, estimator=MaximumLikelihoodEstimator)\n",
    "#model.fit(data, estimator=BayesianEstimator, prior_type=\"BDeu\")"
   ]
  },
  {
   "cell_type": "code",
   "execution_count": 60,
   "metadata": {},
   "outputs": [
    {
     "data": {
      "image/png": "[encoded data removed]",
      "text/plain": [
       "<Figure size 648x504 with 1 Axes>"
      ]
     },
     "metadata": {},
     "output_type": "display_data"
    }
   ],
   "source": [
    "#画出贝叶斯网络图\n",
    "fig, ax=plt.subplots(figsize=(9,7))\n",
    "positions={'PA':(2,1),'Sleep2':(3,2),'QOLm':(3,-1),'Sleep1':(4,-1),'Insomnia':(5,-1.5),'Depression':(4.5,1),'Arthritis':(4.5,3),'Sleep2':(3,2),'BMI':(3,4.5) ,'CRP':(2.5,5.5),'Smoke':(2,4.5),'Insulin':(2,3.5),'QOLp':(4.5,5.5)}\n",
    "nx.draw(model, pos=positions, with_labels=True, node_size=4000, font_size=20, arrowsize=20, node_color='yellow', ax=ax)"
   ]
  },
  {
   "cell_type": "markdown",
   "metadata": {},
   "source": [
    "<p style =“ font-family：Times New Roman; font-size：15px”>第一个显著发现是以下变量没有（或存在）边缘：tumor stage, years from diagnosis to study entry, neighborhood, education, alcohol intake and coping style (MB scale)，表明这些变量（几乎）独立于所有其他因素。</ p>\n",
    "\n",
    "<p style =“ font-family：Times New Roman; font-size：15px”>由于某些原因，对该网络的“Age年龄”绘图花费了太多时间，因此我跳过了该节点。 实际上应该与PA连接。</ p>"
   ]
  },
  {
   "cell_type": "code",
   "execution_count": 61,
   "metadata": {},
   "outputs": [
    {
     "data": {
      "text/plain": [
       "True"
      ]
     },
     "execution_count": 61,
     "metadata": {},
     "output_type": "execute_result"
    }
   ],
   "source": [
    "model.check_model()"
   ]
  },
  {
   "cell_type": "code",
   "execution_count": 62,
   "metadata": {},
   "outputs": [
    {
     "data": {
      "text/plain": [
       "[<TabularCPD representing P(Arthritis:2 | Depression:2) at 0x2aaf44bd148>,\n",
       " <TabularCPD representing P(BMI:262 | Arthritis:2, Smoke:2) at 0x2aaf44c5208>,\n",
       " <TabularCPD representing P(CRP:303 | BMI:262) at 0x2aaf54ec088>,\n",
       " <TabularCPD representing P(Depression:2 | Insomnia:2) at 0x2aaf54e9d88>,\n",
       " <TabularCPD representing P(Insomnia:2) at 0x2aaf54e2448>,\n",
       " <TabularCPD representing P(Insulin:303 | BMI:262) at 0x2aaf54fce88>,\n",
       " <TabularCPD representing P(PA:303 | Insulin:303, Sleep2:26) at 0x2aaf5508088>,\n",
       " <TabularCPD representing P(QOLm:214 | Depression:2, Sleep2:26) at 0x2aaf5503e48>,\n",
       " <TabularCPD representing P(QOLp:96 | Arthritis:2, BMI:262, Sleep2:26) at 0x2aaf5d48a48>,\n",
       " <TabularCPD representing P(Sleep1:32 | Depression:2, Insomnia:2) at 0x2aaf5d48488>,\n",
       " <TabularCPD representing P(Sleep2:26 | Depression:2) at 0x2aaf5d48bc8>,\n",
       " <TabularCPD representing P(Smoke:2) at 0x2aaf5d48c48>]"
      ]
     },
     "execution_count": 62,
     "metadata": {},
     "output_type": "execute_result"
    }
   ],
   "source": [
    "model.get_cpds()"
   ]
  },
  {
   "cell_type": "markdown",
   "metadata": {},
   "source": [
    "## CPD"
   ]
  },
  {
   "cell_type": "code",
   "execution_count": 63,
   "metadata": {},
   "outputs": [
    {
     "name": "stdout",
     "output_type": "stream",
     "text": [
      "+----------+----------+\n",
      "| Smoke(0) | 0.531353 |\n",
      "+----------+----------+\n",
      "| Smoke(1) | 0.468647 |\n",
      "+----------+----------+\n",
      "+-------------+----------+\n",
      "| Insomnia(0) | 0.706271 |\n",
      "+-------------+----------+\n",
      "| Insomnia(1) | 0.293729 |\n",
      "+-------------+----------+\n",
      "+---------------+--------------------+--------------------+\n",
      "| Insomnia      | Insomnia(0)        | Insomnia(1)        |\n",
      "+---------------+--------------------+--------------------+\n",
      "| Depression(0) | 0.6588785046728972 | 0.4157303370786517 |\n",
      "+---------------+--------------------+--------------------+\n",
      "| Depression(1) | 0.3411214953271028 | 0.5842696629213483 |\n",
      "+---------------+--------------------+--------------------+\n",
      "+--------------+-----------------------+---------------+\n",
      "| Depression   | Depression(0)         | Depression(1) |\n",
      "+--------------+-----------------------+---------------+\n",
      "| Sleep2(30.0) | 0.10112359550561797   | 0.032         |\n",
      "+--------------+-----------------------+---------------+\n",
      "| Sleep2(35.1) | 0.1404494382022472    | 0.016         |\n",
      "+--------------+-----------------------+---------------+\n",
      "| Sleep2(38.7) | 0.11235955056179775   | 0.04          |\n",
      "+--------------+-----------------------+---------------+\n",
      "| Sleep2(41.4) | 0.07303370786516854   | 0.056         |\n",
      "+--------------+-----------------------+---------------+\n",
      "| Sleep2(43.6) | 0.10674157303370786   | 0.088         |\n",
      "+--------------+-----------------------+---------------+\n",
      "| Sleep2(45.5) | 0.06741573033707865   | 0.104         |\n",
      "+--------------+-----------------------+---------------+\n",
      "| Sleep2(47.3) | 0.06179775280898876   | 0.064         |\n",
      "+--------------+-----------------------+---------------+\n",
      "| Sleep2(48.9) | 0.03932584269662921   | 0.08          |\n",
      "+--------------+-----------------------+---------------+\n",
      "| Sleep2(50.3) | 0.03932584269662921   | 0.056         |\n",
      "+--------------+-----------------------+---------------+\n",
      "| Sleep2(51.6) | 0.033707865168539325  | 0.056         |\n",
      "+--------------+-----------------------+---------------+\n",
      "| Sleep2(52.9) | 0.05056179775280899   | 0.064         |\n",
      "+--------------+-----------------------+---------------+\n",
      "| Sleep2(54.0) | 0.028089887640449437  | 0.048         |\n",
      "+--------------+-----------------------+---------------+\n",
      "| Sleep2(55.1) | 0.0449438202247191    | 0.04          |\n",
      "+--------------+-----------------------+---------------+\n",
      "| Sleep2(56.1) | 0.02247191011235955   | 0.056         |\n",
      "+--------------+-----------------------+---------------+\n",
      "| Sleep2(57.2) | 0.011235955056179775  | 0.032         |\n",
      "+--------------+-----------------------+---------------+\n",
      "| Sleep2(58.2) | 0.02247191011235955   | 0.032         |\n",
      "+--------------+-----------------------+---------------+\n",
      "| Sleep2(59.3) | 0.016853932584269662  | 0.024         |\n",
      "+--------------+-----------------------+---------------+\n",
      "| Sleep2(60.3) | 0.0056179775280898875 | 0.008         |\n",
      "+--------------+-----------------------+---------------+\n",
      "| Sleep2(61.3) | 0.0056179775280898875 | 0.016         |\n",
      "+--------------+-----------------------+---------------+\n",
      "| Sleep2(62.3) | 0.0                   | 0.008         |\n",
      "+--------------+-----------------------+---------------+\n",
      "| Sleep2(63.3) | 0.011235955056179775  | 0.016         |\n",
      "+--------------+-----------------------+---------------+\n",
      "| Sleep2(64.3) | 0.0                   | 0.024         |\n",
      "+--------------+-----------------------+---------------+\n",
      "| Sleep2(65.3) | 0.0056179775280898875 | 0.016         |\n",
      "+--------------+-----------------------+---------------+\n",
      "| Sleep2(66.3) | 0.0                   | 0.008         |\n",
      "+--------------+-----------------------+---------------+\n",
      "| Sleep2(67.3) | 0.0                   | 0.008         |\n",
      "+--------------+-----------------------+---------------+\n",
      "| Sleep2(70.7) | 0.0                   | 0.008         |\n",
      "+--------------+-----------------------+---------------+\n"
     ]
    }
   ],
   "source": [
    "print(model.get_cpds('Smoke'))\n",
    "print(model.get_cpds('Insomnia'))\n",
    "print(model.get_cpds('Depression'))\n",
    "print(model.get_cpds('Sleep2'))"
   ]
  },
  {
   "cell_type": "markdown",
   "metadata": {},
   "source": [
    "## Inferences"
   ]
  },
  {
   "cell_type": "code",
   "execution_count": 64,
   "metadata": {},
   "outputs": [],
   "source": [
    "inference = VariableElimination(model)"
   ]
  },
  {
   "cell_type": "markdown",
   "metadata": {},
   "source": [
    "问题1：鉴于患者可以从失眠中幸存下来，是否会出现“抑郁症”？"
   ]
  },
  {
   "cell_type": "code",
   "execution_count": 65,
   "metadata": {},
   "outputs": [
    {
     "name": "stderr",
     "output_type": "stream",
     "text": [
      "Finding Elimination Order: : 100%|████████████████████████████████████████████████████| 10/10 [00:00<00:00, 666.66it/s]\n",
      "Eliminating: Sleep1: 100%|█████████████████████████████████████████████████████████████| 10/10 [00:03<00:00,  3.17it/s]"
     ]
    },
    {
     "name": "stdout",
     "output_type": "stream",
     "text": [
      "{'Depression': 1}\n"
     ]
    },
    {
     "name": "stderr",
     "output_type": "stream",
     "text": [
      "\n"
     ]
    }
   ],
   "source": [
    "query1= inference.map_query(variables=['Depression'], evidence={'Insomnia': 1})\n",
    "print(query1)"
   ]
  },
  {
   "cell_type": "markdown",
   "metadata": {},
   "source": [
    "问题2：考虑到患有关节炎和吸烟的人，BMI的可能值是多少？"
   ]
  },
  {
   "cell_type": "code",
   "execution_count": 45,
   "metadata": {},
   "outputs": [
    {
     "name": "stderr",
     "output_type": "stream",
     "text": [
      "Finding Elimination Order: : 100%|█████████████████████████████████████████████████████| 9/9 [00:00<00:00, 2998.79it/s]\n",
      "Eliminating: Insulin: 100%|██████████████████████████████████████████████████████████████| 9/9 [00:05<00:00,  1.75it/s]"
     ]
    },
    {
     "name": "stdout",
     "output_type": "stream",
     "text": [
      "{'BMI': 28.515625}\n"
     ]
    },
    {
     "name": "stderr",
     "output_type": "stream",
     "text": [
      "\n"
     ]
    }
   ],
   "source": [
    "query2= inference.map_query(variables=['BMI'], evidence={'Arthritis': 1,'Smoke' : 1})\n",
    "print(query2)"
   ]
  },
  {
   "cell_type": "markdown",
   "metadata": {},
   "source": [
    "问题3：如果我们将生活质量（身心健康）视为重要因素，那么一个人的睡眠习惯是什么？"
   ]
  },
  {
   "cell_type": "code",
   "execution_count": 46,
   "metadata": {},
   "outputs": [
    {
     "name": "stderr",
     "output_type": "stream",
     "text": [
      "D:\\Anaconda3\\lib\\site-packages\\pgmpy\\factors\\discrete\\DiscreteFactor.py:519: UserWarning: Found unknown state name. Trying to switch to using all state names as state numbers\n",
      "  \"Found unknown state name. Trying to switch to using all state names as state numbers\"\n",
      "Finding Elimination Order: : 100%|█████████████████████████████████████████████████████| 9/9 [00:00<00:00, 1782.45it/s]\n",
      "Eliminating: Insomnia: 100%|████████████████████████████████████████████████████████████| 9/9 [00:00<00:00, 237.16it/s]"
     ]
    },
    {
     "name": "stdout",
     "output_type": "stream",
     "text": [
      "{'Sleep1': 47.9}\n"
     ]
    },
    {
     "name": "stderr",
     "output_type": "stream",
     "text": [
      "\n"
     ]
    }
   ],
   "source": [
    "query3= inference.map_query(variables=['Sleep1'], evidence={'QOLp': 30,'QOLm' : 30})\n",
    "print(query3)\n",
    "#Higher scores indicate worse sleep "
   ]
  },
  {
   "cell_type": "markdown",
   "metadata": {},
   "source": [
    "问题4： 睡眠不足和胰岛素水平升高对身体活动有什么影响？"
   ]
  },
  {
   "cell_type": "code",
   "execution_count": 47,
   "metadata": {},
   "outputs": [
    {
     "name": "stderr",
     "output_type": "stream",
     "text": [
      "Finding Elimination Order: : 100%|█████████████████████████████████████████████████████| 9/9 [00:00<00:00, 1813.80it/s]\n",
      "Eliminating: Arthritis: 100%|███████████████████████████████████████████████████████████| 9/9 [00:00<00:00, 112.50it/s]"
     ]
    },
    {
     "name": "stdout",
     "output_type": "stream",
     "text": [
      "{'PA': 462.3070267}\n"
     ]
    },
    {
     "name": "stderr",
     "output_type": "stream",
     "text": [
      "\n"
     ]
    }
   ],
   "source": [
    "query4 = inference.map_query(variables=['PA'], evidence={'Insulin': 6, 'Depression':1})\n",
    "print(query4)"
   ]
  },
  {
   "cell_type": "code",
   "execution_count": 48,
   "metadata": {},
   "outputs": [
    {
     "data": {
      "text/html": [
       "<div>\n",
       "<style scoped>\n",
       "    .dataframe tbody tr th:only-of-type {\n",
       "        vertical-align: middle;\n",
       "    }\n",
       "\n",
       "    .dataframe tbody tr th {\n",
       "        vertical-align: top;\n",
       "    }\n",
       "\n",
       "    .dataframe thead th {\n",
       "        text-align: right;\n",
       "    }\n",
       "</style>\n",
       "<table border=\"1\" class=\"dataframe\">\n",
       "  <thead>\n",
       "    <tr style=\"text-align: right;\">\n",
       "      <th></th>\n",
       "      <th>Query1</th>\n",
       "      <th>Query2</th>\n",
       "      <th>Query3</th>\n",
       "      <th>Query4</th>\n",
       "    </tr>\n",
       "  </thead>\n",
       "  <tbody>\n",
       "    <tr>\n",
       "      <th>0</th>\n",
       "      <td>Depression</td>\n",
       "      <td>BMI</td>\n",
       "      <td>Sleep1</td>\n",
       "      <td>PA</td>\n",
       "    </tr>\n",
       "    <tr>\n",
       "      <th>1</th>\n",
       "      <td>1</td>\n",
       "      <td>28.5156</td>\n",
       "      <td>47.9</td>\n",
       "      <td>462.307</td>\n",
       "    </tr>\n",
       "  </tbody>\n",
       "</table>\n",
       "</div>"
      ],
      "text/plain": [
       "       Query1   Query2  Query3   Query4\n",
       "0  Depression      BMI  Sleep1       PA\n",
       "1           1  28.5156    47.9  462.307"
      ]
     },
     "execution_count": 48,
     "metadata": {},
     "output_type": "execute_result"
    }
   ],
   "source": [
    "data = {'Query1': [[key for key in query1.keys()][0], [value for value in query1.values()][0]],\n",
    "        'Query2': [[key for key in query2.keys()][0], [value for value in query2.values()][0]],\n",
    "        'Query3': [[key for key in query3.keys()][0], [value for value in query3.values()][0]],\n",
    "        'Query4': [[key for key in query4.keys()][0], [value for value in query4.values()][0]]}\n",
    "\n",
    "result = pd.DataFrame(data)\n",
    "result.to_csv('output.csv', index=False)\n",
    "result"
   ]
  },
  {
   "cell_type": "markdown",
   "metadata": {},
   "source": [
    "## 推论\n",
    "\n",
    "<ol>\n",
    "<li>该人如果失眠，将患有抑郁症。</ li>\n",
    "<li>如果BMI在25-29之间，则该人超重，这会导致乳腺癌的其他一些损害</ li>\n",
    "<li>如果生活方式导致睡眠问题会导致较高的睡眠评分，则质量较低。\n",
    "<li> BMI与胰岛素有很强的正相关性，因此BMI与体力活动成反比</ li>\n",
    "</ ol>"
   ]
  },
  {
   "cell_type": "markdown",
   "metadata": {},
   "source": [
    "### 贝叶斯网络预测\n",
    "\n"
   ]
  },
  {
   "cell_type": "code",
   "execution_count": 5,
   "metadata": {},
   "outputs": [
    {
     "name": "stdout",
     "output_type": "stream",
     "text": [
      "     Smoke  Insomnia  Depression  Sleep1  Sleep2    QOLp       QOLm  \\\n",
      "0        0         0           0    44.2    38.7  86.875  93.250000   \n",
      "1        0         0           1    51.2    43.6  76.250  81.625000   \n",
      "2        0         0           0    35.9    38.7  58.750  79.625000   \n",
      "3        0         0           1    56.3    52.9  26.875  37.958333   \n",
      "4        1         1           1    62.6    56.1  76.250  82.250000   \n",
      "..     ...       ...         ...     ...     ...     ...        ...   \n",
      "298      0         1           1    54.3    54.0  68.750  50.583333   \n",
      "299      1         0           0    42.9    35.1  85.000  87.375000   \n",
      "300      0         0           0    28.9    38.7  85.625  78.500000   \n",
      "301      1         1           1    61.5    55.1  67.500  53.208333   \n",
      "302      1         0           1    38.0    41.4  65.625  84.750000   \n",
      "\n",
      "     Arthritis   Insulin        CRP          PA        BMI  \n",
      "0            0  6.620323  14.662970  248.645687  29.387755  \n",
      "1            1  6.588302  15.086824  241.912148  28.398718  \n",
      "2            0  5.773663  16.045979  408.521245  20.077335  \n",
      "3            0  6.898928  16.312136  177.601267  26.838648  \n",
      "4            1  5.349781  12.376667  142.443154  37.165193  \n",
      "..         ...       ...        ...         ...        ...  \n",
      "298          0  6.140661  17.583875  263.558311  29.761905  \n",
      "299          1  5.741496  15.479105  177.686688  27.700831  \n",
      "300          1  6.468571  16.909456   55.136306  30.078125  \n",
      "301          1  6.376314  15.232447  231.915749  35.599858  \n",
      "302          0  5.852825  12.640834  370.160668  29.411765  \n",
      "\n",
      "[303 rows x 12 columns]\n"
     ]
    }
   ],
   "source": [
    "data = pd.read_csv('dataset.csv')\n",
    "data.drop(['Education','ParticipantNumber','TumorStage','Neighborhood','Alcohol','Age'], axis=1, inplace=True)\n",
    "data.replace({'Yes':1,'No':0}, inplace=True)\n",
    "print(data)"
   ]
  },
  {
   "cell_type": "code",
   "execution_count": 6,
   "metadata": {},
   "outputs": [],
   "source": [
    "model=BayesianModel([('Arthritis','QOLp'), ('Arthritis','BMI'), ('BMI','CRP'),('BMI','Insulin'),('BMI','QOLp'),('Smoke','BMI'),('Insulin','PA'),('Sleep2','PA'),('Sleep2','QOLm'),('Sleep2','QOLp'),('Depression','Arthritis'),('Depression','Sleep2'),('Depression','QOLm'),('Depression','Sleep1'),('Insomnia','Depression'),('Insomnia','Sleep1')])\n",
    "model.fit(data, estimator=BayesianEstimator, prior_type=\"BDeu\") # default equivalent_sample_size=5\n"
   ]
  },
  {
   "cell_type": "code",
   "execution_count": 17,
   "metadata": {},
   "outputs": [],
   "source": [
    "# 数据集划分为训练集和测试集\n",
    "\n",
    "train_data = data[:250].copy()\n",
    "predict_data= data[250:].copy()"
   ]
  },
  {
   "cell_type": "code",
   "execution_count": 19,
   "metadata": {},
   "outputs": [],
   "source": [
    "model=BayesianModel([('Arthritis','QOLp'), ('Arthritis','BMI'), ('BMI','CRP'),('BMI','Insulin'),('BMI','QOLp'),('Smoke','BMI'),('Insulin','PA'),('Sleep2','PA'),('Sleep2','QOLm'),('Sleep2','QOLp'),('Depression','Arthritis'),('Depression','Sleep2'),('Depression','QOLm'),('Depression','Sleep1'),('Insomnia','Depression'),('Insomnia','Sleep1')])\n",
    "\n",
    "model.fit(data, estimator=BayesianEstimator, prior_type=\"BDeu\") # default equivalent_sample_size=5"
   ]
  },
  {
   "cell_type": "code",
   "execution_count": 20,
   "metadata": {},
   "outputs": [
    {
     "name": "stderr",
     "output_type": "stream",
     "text": [
      "100%|██████████████████████████████████████████████████████████████████████████████████| 53/53 [00:02<00:00, 20.00it/s]\n"
     ]
    },
    {
     "data": {
      "text/html": [
       "<div>\n",
       "<style scoped>\n",
       "    .dataframe tbody tr th:only-of-type {\n",
       "        vertical-align: middle;\n",
       "    }\n",
       "\n",
       "    .dataframe tbody tr th {\n",
       "        vertical-align: top;\n",
       "    }\n",
       "\n",
       "    .dataframe thead th {\n",
       "        text-align: right;\n",
       "    }\n",
       "</style>\n",
       "<table border=\"1\" class=\"dataframe\">\n",
       "  <thead>\n",
       "    <tr style=\"text-align: right;\">\n",
       "      <th></th>\n",
       "      <th>Depression</th>\n",
       "    </tr>\n",
       "  </thead>\n",
       "  <tbody>\n",
       "    <tr>\n",
       "      <th>0</th>\n",
       "      <td>0</td>\n",
       "    </tr>\n",
       "    <tr>\n",
       "      <th>1</th>\n",
       "      <td>0</td>\n",
       "    </tr>\n",
       "    <tr>\n",
       "      <th>2</th>\n",
       "      <td>1</td>\n",
       "    </tr>\n",
       "    <tr>\n",
       "      <th>3</th>\n",
       "      <td>0</td>\n",
       "    </tr>\n",
       "    <tr>\n",
       "      <th>4</th>\n",
       "      <td>0</td>\n",
       "    </tr>\n",
       "    <tr>\n",
       "      <th>5</th>\n",
       "      <td>0</td>\n",
       "    </tr>\n",
       "    <tr>\n",
       "      <th>6</th>\n",
       "      <td>1</td>\n",
       "    </tr>\n",
       "    <tr>\n",
       "      <th>7</th>\n",
       "      <td>0</td>\n",
       "    </tr>\n",
       "    <tr>\n",
       "      <th>8</th>\n",
       "      <td>1</td>\n",
       "    </tr>\n",
       "    <tr>\n",
       "      <th>9</th>\n",
       "      <td>0</td>\n",
       "    </tr>\n",
       "    <tr>\n",
       "      <th>10</th>\n",
       "      <td>0</td>\n",
       "    </tr>\n",
       "    <tr>\n",
       "      <th>11</th>\n",
       "      <td>1</td>\n",
       "    </tr>\n",
       "    <tr>\n",
       "      <th>12</th>\n",
       "      <td>1</td>\n",
       "    </tr>\n",
       "    <tr>\n",
       "      <th>13</th>\n",
       "      <td>0</td>\n",
       "    </tr>\n",
       "    <tr>\n",
       "      <th>14</th>\n",
       "      <td>0</td>\n",
       "    </tr>\n",
       "    <tr>\n",
       "      <th>15</th>\n",
       "      <td>0</td>\n",
       "    </tr>\n",
       "    <tr>\n",
       "      <th>16</th>\n",
       "      <td>1</td>\n",
       "    </tr>\n",
       "    <tr>\n",
       "      <th>17</th>\n",
       "      <td>1</td>\n",
       "    </tr>\n",
       "    <tr>\n",
       "      <th>18</th>\n",
       "      <td>1</td>\n",
       "    </tr>\n",
       "    <tr>\n",
       "      <th>19</th>\n",
       "      <td>1</td>\n",
       "    </tr>\n",
       "    <tr>\n",
       "      <th>20</th>\n",
       "      <td>0</td>\n",
       "    </tr>\n",
       "    <tr>\n",
       "      <th>21</th>\n",
       "      <td>0</td>\n",
       "    </tr>\n",
       "    <tr>\n",
       "      <th>22</th>\n",
       "      <td>0</td>\n",
       "    </tr>\n",
       "    <tr>\n",
       "      <th>23</th>\n",
       "      <td>0</td>\n",
       "    </tr>\n",
       "    <tr>\n",
       "      <th>24</th>\n",
       "      <td>1</td>\n",
       "    </tr>\n",
       "    <tr>\n",
       "      <th>25</th>\n",
       "      <td>0</td>\n",
       "    </tr>\n",
       "    <tr>\n",
       "      <th>26</th>\n",
       "      <td>1</td>\n",
       "    </tr>\n",
       "    <tr>\n",
       "      <th>27</th>\n",
       "      <td>0</td>\n",
       "    </tr>\n",
       "    <tr>\n",
       "      <th>28</th>\n",
       "      <td>0</td>\n",
       "    </tr>\n",
       "    <tr>\n",
       "      <th>29</th>\n",
       "      <td>0</td>\n",
       "    </tr>\n",
       "    <tr>\n",
       "      <th>30</th>\n",
       "      <td>1</td>\n",
       "    </tr>\n",
       "    <tr>\n",
       "      <th>31</th>\n",
       "      <td>0</td>\n",
       "    </tr>\n",
       "    <tr>\n",
       "      <th>32</th>\n",
       "      <td>0</td>\n",
       "    </tr>\n",
       "    <tr>\n",
       "      <th>33</th>\n",
       "      <td>0</td>\n",
       "    </tr>\n",
       "    <tr>\n",
       "      <th>34</th>\n",
       "      <td>0</td>\n",
       "    </tr>\n",
       "    <tr>\n",
       "      <th>35</th>\n",
       "      <td>1</td>\n",
       "    </tr>\n",
       "    <tr>\n",
       "      <th>36</th>\n",
       "      <td>1</td>\n",
       "    </tr>\n",
       "    <tr>\n",
       "      <th>37</th>\n",
       "      <td>0</td>\n",
       "    </tr>\n",
       "    <tr>\n",
       "      <th>38</th>\n",
       "      <td>1</td>\n",
       "    </tr>\n",
       "    <tr>\n",
       "      <th>39</th>\n",
       "      <td>0</td>\n",
       "    </tr>\n",
       "    <tr>\n",
       "      <th>40</th>\n",
       "      <td>1</td>\n",
       "    </tr>\n",
       "    <tr>\n",
       "      <th>41</th>\n",
       "      <td>0</td>\n",
       "    </tr>\n",
       "    <tr>\n",
       "      <th>42</th>\n",
       "      <td>0</td>\n",
       "    </tr>\n",
       "    <tr>\n",
       "      <th>43</th>\n",
       "      <td>0</td>\n",
       "    </tr>\n",
       "    <tr>\n",
       "      <th>44</th>\n",
       "      <td>1</td>\n",
       "    </tr>\n",
       "    <tr>\n",
       "      <th>45</th>\n",
       "      <td>1</td>\n",
       "    </tr>\n",
       "    <tr>\n",
       "      <th>46</th>\n",
       "      <td>0</td>\n",
       "    </tr>\n",
       "    <tr>\n",
       "      <th>47</th>\n",
       "      <td>1</td>\n",
       "    </tr>\n",
       "    <tr>\n",
       "      <th>48</th>\n",
       "      <td>1</td>\n",
       "    </tr>\n",
       "    <tr>\n",
       "      <th>49</th>\n",
       "      <td>0</td>\n",
       "    </tr>\n",
       "    <tr>\n",
       "      <th>50</th>\n",
       "      <td>0</td>\n",
       "    </tr>\n",
       "    <tr>\n",
       "      <th>51</th>\n",
       "      <td>1</td>\n",
       "    </tr>\n",
       "    <tr>\n",
       "      <th>52</th>\n",
       "      <td>1</td>\n",
       "    </tr>\n",
       "  </tbody>\n",
       "</table>\n",
       "</div>"
      ],
      "text/plain": [
       "    Depression\n",
       "0            0\n",
       "1            0\n",
       "2            1\n",
       "3            0\n",
       "4            0\n",
       "5            0\n",
       "6            1\n",
       "7            0\n",
       "8            1\n",
       "9            0\n",
       "10           0\n",
       "11           1\n",
       "12           1\n",
       "13           0\n",
       "14           0\n",
       "15           0\n",
       "16           1\n",
       "17           1\n",
       "18           1\n",
       "19           1\n",
       "20           0\n",
       "21           0\n",
       "22           0\n",
       "23           0\n",
       "24           1\n",
       "25           0\n",
       "26           1\n",
       "27           0\n",
       "28           0\n",
       "29           0\n",
       "30           1\n",
       "31           0\n",
       "32           0\n",
       "33           0\n",
       "34           0\n",
       "35           1\n",
       "36           1\n",
       "37           0\n",
       "38           1\n",
       "39           0\n",
       "40           1\n",
       "41           0\n",
       "42           0\n",
       "43           0\n",
       "44           1\n",
       "45           1\n",
       "46           0\n",
       "47           1\n",
       "48           1\n",
       "49           0\n",
       "50           0\n",
       "51           1\n",
       "52           1"
      ]
     },
     "execution_count": 20,
     "metadata": {},
     "output_type": "execute_result"
    }
   ],
   "source": [
    "predict_data.drop(['Depression'], axis=1, inplace=True)\n",
    "\n",
    "pred = model.predict(predict_data)\n",
    "pred"
   ]
  },
  {
   "cell_type": "code",
   "execution_count": 21,
   "metadata": {},
   "outputs": [
    {
     "data": {
      "text/html": [
       "<div>\n",
       "<style scoped>\n",
       "    .dataframe tbody tr th:only-of-type {\n",
       "        vertical-align: middle;\n",
       "    }\n",
       "\n",
       "    .dataframe tbody tr th {\n",
       "        vertical-align: top;\n",
       "    }\n",
       "\n",
       "    .dataframe thead th {\n",
       "        text-align: right;\n",
       "    }\n",
       "</style>\n",
       "<table border=\"1\" class=\"dataframe\">\n",
       "  <thead>\n",
       "    <tr style=\"text-align: right;\">\n",
       "      <th></th>\n",
       "      <th>Depression_0</th>\n",
       "      <th>Depression_1</th>\n",
       "    </tr>\n",
       "  </thead>\n",
       "  <tbody>\n",
       "    <tr>\n",
       "      <th>250</th>\n",
       "      <td>0.999989</td>\n",
       "      <td>0.000011</td>\n",
       "    </tr>\n",
       "    <tr>\n",
       "      <th>251</th>\n",
       "      <td>0.999501</td>\n",
       "      <td>0.000499</td>\n",
       "    </tr>\n",
       "    <tr>\n",
       "      <th>252</th>\n",
       "      <td>0.000467</td>\n",
       "      <td>0.999533</td>\n",
       "    </tr>\n",
       "    <tr>\n",
       "      <th>253</th>\n",
       "      <td>0.999790</td>\n",
       "      <td>0.000210</td>\n",
       "    </tr>\n",
       "    <tr>\n",
       "      <th>254</th>\n",
       "      <td>0.999311</td>\n",
       "      <td>0.000689</td>\n",
       "    </tr>\n",
       "    <tr>\n",
       "      <th>255</th>\n",
       "      <td>0.999879</td>\n",
       "      <td>0.000121</td>\n",
       "    </tr>\n",
       "    <tr>\n",
       "      <th>256</th>\n",
       "      <td>0.000020</td>\n",
       "      <td>0.999980</td>\n",
       "    </tr>\n",
       "    <tr>\n",
       "      <th>257</th>\n",
       "      <td>0.999749</td>\n",
       "      <td>0.000251</td>\n",
       "    </tr>\n",
       "    <tr>\n",
       "      <th>258</th>\n",
       "      <td>0.000040</td>\n",
       "      <td>0.999960</td>\n",
       "    </tr>\n",
       "    <tr>\n",
       "      <th>259</th>\n",
       "      <td>0.999514</td>\n",
       "      <td>0.000486</td>\n",
       "    </tr>\n",
       "    <tr>\n",
       "      <th>260</th>\n",
       "      <td>0.999666</td>\n",
       "      <td>0.000334</td>\n",
       "    </tr>\n",
       "    <tr>\n",
       "      <th>261</th>\n",
       "      <td>0.000389</td>\n",
       "      <td>0.999611</td>\n",
       "    </tr>\n",
       "    <tr>\n",
       "      <th>262</th>\n",
       "      <td>0.000080</td>\n",
       "      <td>0.999920</td>\n",
       "    </tr>\n",
       "    <tr>\n",
       "      <th>263</th>\n",
       "      <td>0.999879</td>\n",
       "      <td>0.000121</td>\n",
       "    </tr>\n",
       "    <tr>\n",
       "      <th>264</th>\n",
       "      <td>0.999501</td>\n",
       "      <td>0.000499</td>\n",
       "    </tr>\n",
       "    <tr>\n",
       "      <th>265</th>\n",
       "      <td>0.999926</td>\n",
       "      <td>0.000074</td>\n",
       "    </tr>\n",
       "    <tr>\n",
       "      <th>266</th>\n",
       "      <td>0.000958</td>\n",
       "      <td>0.999042</td>\n",
       "    </tr>\n",
       "    <tr>\n",
       "      <th>267</th>\n",
       "      <td>0.000060</td>\n",
       "      <td>0.999940</td>\n",
       "    </tr>\n",
       "    <tr>\n",
       "      <th>268</th>\n",
       "      <td>0.000694</td>\n",
       "      <td>0.999306</td>\n",
       "    </tr>\n",
       "    <tr>\n",
       "      <th>269</th>\n",
       "      <td>0.000389</td>\n",
       "      <td>0.999611</td>\n",
       "    </tr>\n",
       "    <tr>\n",
       "      <th>270</th>\n",
       "      <td>0.999751</td>\n",
       "      <td>0.000249</td>\n",
       "    </tr>\n",
       "    <tr>\n",
       "      <th>271</th>\n",
       "      <td>0.999046</td>\n",
       "      <td>0.000954</td>\n",
       "    </tr>\n",
       "    <tr>\n",
       "      <th>272</th>\n",
       "      <td>0.999583</td>\n",
       "      <td>0.000417</td>\n",
       "    </tr>\n",
       "    <tr>\n",
       "      <th>273</th>\n",
       "      <td>0.999982</td>\n",
       "      <td>0.000018</td>\n",
       "    </tr>\n",
       "    <tr>\n",
       "      <th>274</th>\n",
       "      <td>0.000694</td>\n",
       "      <td>0.999306</td>\n",
       "    </tr>\n",
       "    <tr>\n",
       "      <th>275</th>\n",
       "      <td>0.999929</td>\n",
       "      <td>0.000071</td>\n",
       "    </tr>\n",
       "    <tr>\n",
       "      <th>276</th>\n",
       "      <td>0.000040</td>\n",
       "      <td>0.999960</td>\n",
       "    </tr>\n",
       "    <tr>\n",
       "      <th>277</th>\n",
       "      <td>0.999926</td>\n",
       "      <td>0.000074</td>\n",
       "    </tr>\n",
       "    <tr>\n",
       "      <th>278</th>\n",
       "      <td>0.999568</td>\n",
       "      <td>0.000432</td>\n",
       "    </tr>\n",
       "    <tr>\n",
       "      <th>279</th>\n",
       "      <td>0.999964</td>\n",
       "      <td>0.000036</td>\n",
       "    </tr>\n",
       "    <tr>\n",
       "      <th>280</th>\n",
       "      <td>0.000124</td>\n",
       "      <td>0.999876</td>\n",
       "    </tr>\n",
       "    <tr>\n",
       "      <th>281</th>\n",
       "      <td>0.999984</td>\n",
       "      <td>0.000016</td>\n",
       "    </tr>\n",
       "    <tr>\n",
       "      <th>282</th>\n",
       "      <td>0.999854</td>\n",
       "      <td>0.000146</td>\n",
       "    </tr>\n",
       "    <tr>\n",
       "      <th>283</th>\n",
       "      <td>0.999964</td>\n",
       "      <td>0.000036</td>\n",
       "    </tr>\n",
       "    <tr>\n",
       "      <th>284</th>\n",
       "      <td>0.999790</td>\n",
       "      <td>0.000210</td>\n",
       "    </tr>\n",
       "    <tr>\n",
       "      <th>285</th>\n",
       "      <td>0.000018</td>\n",
       "      <td>0.999982</td>\n",
       "    </tr>\n",
       "    <tr>\n",
       "      <th>286</th>\n",
       "      <td>0.000389</td>\n",
       "      <td>0.999611</td>\n",
       "    </tr>\n",
       "    <tr>\n",
       "      <th>287</th>\n",
       "      <td>0.999141</td>\n",
       "      <td>0.000859</td>\n",
       "    </tr>\n",
       "    <tr>\n",
       "      <th>288</th>\n",
       "      <td>0.000165</td>\n",
       "      <td>0.999835</td>\n",
       "    </tr>\n",
       "    <tr>\n",
       "      <th>289</th>\n",
       "      <td>0.998971</td>\n",
       "      <td>0.001029</td>\n",
       "    </tr>\n",
       "    <tr>\n",
       "      <th>290</th>\n",
       "      <td>0.000040</td>\n",
       "      <td>0.999960</td>\n",
       "    </tr>\n",
       "    <tr>\n",
       "      <th>291</th>\n",
       "      <td>0.999482</td>\n",
       "      <td>0.000518</td>\n",
       "    </tr>\n",
       "    <tr>\n",
       "      <th>292</th>\n",
       "      <td>0.999929</td>\n",
       "      <td>0.000071</td>\n",
       "    </tr>\n",
       "    <tr>\n",
       "      <th>293</th>\n",
       "      <td>0.999751</td>\n",
       "      <td>0.000249</td>\n",
       "    </tr>\n",
       "    <tr>\n",
       "      <th>294</th>\n",
       "      <td>0.000080</td>\n",
       "      <td>0.999920</td>\n",
       "    </tr>\n",
       "    <tr>\n",
       "      <th>295</th>\n",
       "      <td>0.000579</td>\n",
       "      <td>0.999421</td>\n",
       "    </tr>\n",
       "    <tr>\n",
       "      <th>296</th>\n",
       "      <td>0.999423</td>\n",
       "      <td>0.000577</td>\n",
       "    </tr>\n",
       "    <tr>\n",
       "      <th>297</th>\n",
       "      <td>0.000465</td>\n",
       "      <td>0.999535</td>\n",
       "    </tr>\n",
       "    <tr>\n",
       "      <th>298</th>\n",
       "      <td>0.000346</td>\n",
       "      <td>0.999654</td>\n",
       "    </tr>\n",
       "    <tr>\n",
       "      <th>299</th>\n",
       "      <td>0.999568</td>\n",
       "      <td>0.000432</td>\n",
       "    </tr>\n",
       "    <tr>\n",
       "      <th>300</th>\n",
       "      <td>0.999751</td>\n",
       "      <td>0.000249</td>\n",
       "    </tr>\n",
       "    <tr>\n",
       "      <th>301</th>\n",
       "      <td>0.000293</td>\n",
       "      <td>0.999707</td>\n",
       "    </tr>\n",
       "    <tr>\n",
       "      <th>302</th>\n",
       "      <td>0.005576</td>\n",
       "      <td>0.994424</td>\n",
       "    </tr>\n",
       "  </tbody>\n",
       "</table>\n",
       "</div>"
      ],
      "text/plain": [
       "     Depression_0  Depression_1\n",
       "250      0.999989      0.000011\n",
       "251      0.999501      0.000499\n",
       "252      0.000467      0.999533\n",
       "253      0.999790      0.000210\n",
       "254      0.999311      0.000689\n",
       "255      0.999879      0.000121\n",
       "256      0.000020      0.999980\n",
       "257      0.999749      0.000251\n",
       "258      0.000040      0.999960\n",
       "259      0.999514      0.000486\n",
       "260      0.999666      0.000334\n",
       "261      0.000389      0.999611\n",
       "262      0.000080      0.999920\n",
       "263      0.999879      0.000121\n",
       "264      0.999501      0.000499\n",
       "265      0.999926      0.000074\n",
       "266      0.000958      0.999042\n",
       "267      0.000060      0.999940\n",
       "268      0.000694      0.999306\n",
       "269      0.000389      0.999611\n",
       "270      0.999751      0.000249\n",
       "271      0.999046      0.000954\n",
       "272      0.999583      0.000417\n",
       "273      0.999982      0.000018\n",
       "274      0.000694      0.999306\n",
       "275      0.999929      0.000071\n",
       "276      0.000040      0.999960\n",
       "277      0.999926      0.000074\n",
       "278      0.999568      0.000432\n",
       "279      0.999964      0.000036\n",
       "280      0.000124      0.999876\n",
       "281      0.999984      0.000016\n",
       "282      0.999854      0.000146\n",
       "283      0.999964      0.000036\n",
       "284      0.999790      0.000210\n",
       "285      0.000018      0.999982\n",
       "286      0.000389      0.999611\n",
       "287      0.999141      0.000859\n",
       "288      0.000165      0.999835\n",
       "289      0.998971      0.001029\n",
       "290      0.000040      0.999960\n",
       "291      0.999482      0.000518\n",
       "292      0.999929      0.000071\n",
       "293      0.999751      0.000249\n",
       "294      0.000080      0.999920\n",
       "295      0.000579      0.999421\n",
       "296      0.999423      0.000577\n",
       "297      0.000465      0.999535\n",
       "298      0.000346      0.999654\n",
       "299      0.999568      0.000432\n",
       "300      0.999751      0.000249\n",
       "301      0.000293      0.999707\n",
       "302      0.005576      0.994424"
      ]
     },
     "execution_count": 21,
     "metadata": {},
     "output_type": "execute_result"
    }
   ],
   "source": [
    "pred_prob = model.predict_probability(predict_data)\n",
    "pred_prob"
   ]
  },
  {
   "cell_type": "code",
   "execution_count": 22,
   "metadata": {},
   "outputs": [],
   "source": [
    "pred = pred.to_numpy()\n",
    "predict_data = data[250:].to_numpy()"
   ]
  },
  {
   "cell_type": "code",
   "execution_count": 23,
   "metadata": {},
   "outputs": [
    {
     "name": "stdout",
     "output_type": "stream",
     "text": [
      "Accuracy of predicting Depression :  73.58 %\n"
     ]
    }
   ],
   "source": [
    "Depression=0\n",
    "\n",
    "\n",
    "for i in range(0,len(pred)):\n",
    "    if pred[i][0] == predict_data[i][1]:\n",
    "        Depression += 1\n",
    "    \n",
    "\n",
    "Depression = (Depression/len(predict_data))*100\n",
    "\n",
    "\n",
    "print(\"Accuracy of predicting Depression : \", round(Depression,2), \"%\")"
   ]
  },
  {
   "cell_type": "code",
   "execution_count": null,
   "metadata": {},
   "outputs": [],
   "source": []
  }
 ],
 "metadata": {
  "kernelspec": {
   "display_name": "Python 3",
   "language": "python",
   "name": "python3"
  },
  "language_info": {
   "codemirror_mode": {
    "name": "ipython",
    "version": 3
   },
   "file_extension": ".py",
   "mimetype": "text/x-python",
   "name": "python",
   "nbconvert_exporter": "python",
   "pygments_lexer": "ipython3",
   "version": "3.8.5"
  }
 },
 "nbformat": 4,
 "nbformat_minor": 4
}
