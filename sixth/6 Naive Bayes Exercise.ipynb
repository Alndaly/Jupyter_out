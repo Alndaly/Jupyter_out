{
 "cells": [
  {
   "cell_type": "markdown",
   "metadata": {},
   "source": [
    "# 6 Naive Bayes 课堂练习\n",
    "\n",
    "姓名：华勤达\n",
    "\n",
    "学号：2018212212229"
   ]
  },
  {
   "cell_type": "markdown",
   "metadata": {},
   "source": [
    "贷款违约数据集来自Kaggle数据科学竞赛平台2011年的一个竞赛项目“Give Me Some Cerdit”，该数据集共包含25000个样本，其中150000个样本作为训练集，100000个样本用作测试集。\n",
    "\n",
    "该训练集共有150000条借款人的历史数据，其中违约样本10026条，占样本总量的6.684%，贷款违约率为6.684%，未违约样本139974条，占样本总量的93.316%。可以看出该数据集是一个典型的高度不平衡的数据。数据集中包括了借款人的年龄、收入、家庭等情况和贷款情况，共11个变量，其中SeriousDlqin2yrs是label标签，另外10个变量为预测特征。下表列出了变量名称及数据类型情况： \n",
    "\n",
    "表1 数据集变量情况\n",
    "\n",
    "| 变量名 | 变量描述 | 类型 |\n",
    "|  - | -  | -|\n",
    "|SeriousDlqin2yrs | 是否违约 | Y/N|\n",
    "|RevolvingUtilizationOfUnsecuredLines | 信用卡和个人信用贷款的总额（不含房贷、类似车贷的分期付款等）除以授信额度之和 | 百分比 |\n",
    "|age | 借款人年龄 | 整数 |\n",
    "|NumberOfTime30-59DaysPastDueNotWorse | 过去两年中借款人逾期30-59天的次数 | 整数 |\n",
    "|DebtRatio | 每月债务偿还数、赡养费、生活成本等除以每月总收入 | 百分比 |\n",
    "|MonthlyIncome | 月收入 | 实数|\n",
    "|NumberOfOpenCreditLinesAndLoans | 开放贷款（Open loans，分期付款如车贷和抵押）和信用贷款（Lines of credit,如信用卡）的数量 |整数 |\n",
    "|NumberOfTimes90DaysLate| 过去两年中借款人逾期90天及以上的次数 | 整数|\n",
    "|NumberRealEstateLoansOrLines | 抵押和房地产贷款含房屋抵押式信用贷款的次数 | 整数|\n",
    "|NumberOfTime60-89DaysPastDueNotWorse| 过去两年中借款人逾期60-89天的次数 | 整数 |\n",
    "|NumberOfDependents | 不包括本人在内家庭中需要抚养的人（配偶及子女等等）数 | 整数 |"
   ]
  },
  {
   "cell_type": "markdown",
   "metadata": {},
   "source": [
    "1. 数据导入和清洗"
   ]
  },
  {
   "cell_type": "code",
   "execution_count": 2,
   "metadata": {
    "ExecuteTime": {
     "end_time": "2021-04-13T08:02:01.085936Z",
     "start_time": "2021-04-13T08:02:00.933555Z"
    }
   },
   "outputs": [],
   "source": [
    "import pandas as pd\n",
    "import numpy as np\n",
    "\n",
    "train_data = pd.read_csv('cs-training(2).csv')\n"
   ]
  },
  {
   "cell_type": "code",
   "execution_count": 3,
   "metadata": {
    "ExecuteTime": {
     "end_time": "2021-04-13T08:02:01.805537Z",
     "start_time": "2021-04-13T08:02:01.754093Z"
    }
   },
   "outputs": [
    {
     "data": {
      "text/plain": [
       "((120269, 11), (120269,))"
      ]
     },
     "execution_count": 3,
     "metadata": {},
     "output_type": "execute_result"
    }
   ],
   "source": [
    "#删除空值数据\n",
    "train_data = train_data.dropna()\n",
    "X = train_data.drop([\"SeriousDlqin2yrs\"], axis=1).copy()\n",
    "y = train_data.SeriousDlqin2yrs\n",
    "X.shape, y.shape"
   ]
  },
  {
   "cell_type": "markdown",
   "metadata": {},
   "source": [
    "2. 数据归一化和分训练集和测试集\n",
    "\n",
    "采用交叉验证 "
   ]
  },
  {
   "cell_type": "code",
   "execution_count": 4,
   "metadata": {
    "ExecuteTime": {
     "end_time": "2021-04-13T08:02:06.150854Z",
     "start_time": "2021-04-13T08:02:05.153281Z"
    }
   },
   "outputs": [
    {
     "data": {
      "text/plain": [
       "(120269, 11)"
      ]
     },
     "execution_count": 4,
     "metadata": {},
     "output_type": "execute_result"
    }
   ],
   "source": [
    "# 先数据归一化\n",
    "from sklearn.preprocessing import StandardScaler\n",
    "from sklearn.preprocessing import MinMaxScaler\n",
    "\n",
    "X = MinMaxScaler().fit_transform(X)\n",
    "\n",
    "X.shape"
   ]
  },
  {
   "cell_type": "code",
   "execution_count": 5,
   "metadata": {
    "ExecuteTime": {
     "end_time": "2021-04-13T08:02:11.763841Z",
     "start_time": "2021-04-13T08:02:11.680542Z"
    }
   },
   "outputs": [],
   "source": [
    "from sklearn.model_selection import train_test_split\n",
    "\n",
    "X_train, X_test, y_train, y_test = train_test_split(\n",
    "                                   X, y, test_size=0.4, random_state=10)"
   ]
  },
  {
   "cell_type": "markdown",
   "metadata": {},
   "source": [
    "3. 采用朴素贝叶斯模型\n",
    "\n",
    "   对四种朴素贝叶斯模型 (多项式贝叶斯、高斯贝叶斯、伯努利贝叶斯、补集贝叶斯)\n",
    "      * 运行时间\n",
    "      * 准确度(accuracy_score)\n",
    "      * f1_score(f1_score)\n",
    "      * 精准率(precision_score)\n",
    "      * 召回率(recall_score)\n",
    "      * 混淆矩阵(confusion_matrix)"
   ]
  },
  {
   "cell_type": "code",
   "execution_count": 7,
   "metadata": {
    "ExecuteTime": {
     "end_time": "2021-04-13T08:04:12.696864Z",
     "start_time": "2021-04-13T08:04:12.322519Z"
    }
   },
   "outputs": [
    {
     "name": "stdout",
     "output_type": "stream",
     "text": [
      "------------------Results--------------\n",
      "1.Multinomial 运行时间 =00:00:104473\n",
      "           准确度=0.9316\n",
      "           f1_score=0.0278\n",
      "           精准率=0.6714\n",
      "           召回率=0.0142\n",
      "           AUC面积=0.5068\n",
      "混淆矩阵:\n",
      "[[44771    23]\n",
      " [ 3267    47]]\n",
      "------------------------------------\n",
      "2.Gaussian 运行时间 =00:00:097102\n",
      "           准确度=0.9303\n",
      "           f1_score=0.0647\n",
      "           精准率=0.4296\n",
      "           召回率=0.0350\n",
      "           AUC面积=0.5158\n",
      "混淆矩阵:\n",
      "[[44640   154]\n",
      " [ 3198   116]]\n",
      "------------------------------------\n",
      "3.Bernoulli 运行时间 =00:00:093327\n",
      "           准确度=0.9266\n",
      "           f1_score=0.3824\n",
      "           精准率=0.4550\n",
      "           召回率=0.3298\n",
      "           AUC面积=0.6503\n",
      "混淆矩阵:\n",
      "[[43485  1309]\n",
      " [ 2221  1093]]\n",
      "------------------------------------\n",
      "4.Complement 运行时间 =00:00:070079\n",
      "           准确度=0.8738\n",
      "           f1_score=0.3526\n",
      "           精准率=0.2727\n",
      "           召回率=0.4988\n",
      "           AUC面积=0.7002\n",
      "混淆矩阵:\n",
      "[[40386  4408]\n",
      " [ 1661  1653]]\n",
      "------------------------------------\n"
     ]
    }
   ],
   "source": [
    "from sklearn.naive_bayes import GaussianNB,MultinomialNB,BernoulliNB,ComplementNB\n",
    "from sklearn.utils.class_weight import compute_sample_weight\n",
    "from sklearn import metrics \n",
    "from time import time\n",
    "import datetime\n",
    "\n",
    "title = [\"Multinomial\",\"Gaussian\",\"Bernoulli\",\"Complement\"]\n",
    "\n",
    "#请初始化四个分类器\n",
    "MultinomialNB_clf = MultinomialNB()\n",
    "GaussianNB_clf = GaussianNB()\n",
    "BernoulliNB_clf = BernoulliNB()\n",
    "ComplementNB_clf = ComplementNB()\n",
    "\n",
    "model = [MultinomialNB_clf,GaussianNB_clf,BernoulliNB_clf,ComplementNB_clf]\n",
    "\n",
    "\n",
    "\n",
    "print(\"------------------Results--------------\")\n",
    "for ind, title_, estimator in zip(range(len(title)),title,model):\n",
    "    times = time()\n",
    "    estimator.fit(X_train,y_train)\n",
    "    y_pred = estimator.predict(X_test)\n",
    "    score = metrics.accuracy_score(y_test, y_pred)\n",
    "    f1_score = metrics.f1_score(y_test, y_pred)\n",
    "    precision = metrics.precision_score(y_test, y_pred)\n",
    "    recall = metrics.recall_score(y_test, y_pred)\n",
    "    confusion = metrics.confusion_matrix(y_test, y_pred)\n",
    "    fpr, tpr, thresholds = metrics.roc_curve(y_test, y_pred)\n",
    "    auc = metrics.auc(fpr, tpr)\n",
    "    print(\"{}.{} 运行时间 ={}\".format(ind+1,title_,datetime.datetime.fromtimestamp(time()-times).strftime(\"%M:%S:%f\")))\n",
    "    print(\"           准确度=%.4f\"%score)\n",
    "    print(\"           f1_score=%.4f\"%f1_score)\n",
    "    print(\"           精准率=%.4f\"%precision)\n",
    "    print(\"           召回率=%.4f\"%recall)\n",
    "    print(\"           AUC面积=%.4f\"%auc)\n",
    "    print(\"混淆矩阵:\")\n",
    "    print(confusion)\n",
    "    print(\"------------------------------------\")\n"
   ]
  },
  {
   "cell_type": "markdown",
   "metadata": {},
   "source": [
    "比较结果选择出最佳朴素贝叶斯模型，并请分析一下原因？\n",
    "\n",
    "\n",
    "\n",
    "\n",
    "\n",
    "\n"
   ]
  },
  {
   "cell_type": "markdown",
   "metadata": {},
   "source": [
    "4. 多个不同类型模型之间性能比较\n",
    "   * 逻辑回归(LogisticRegression)\n",
    "   * 决策树(DecisionTree)\n",
    "   * 支持向量机(SVM,RBF kernel)\n",
    "   * 补集朴素贝叶斯(ComplementNB)\n",
    "   "
   ]
  },
  {
   "cell_type": "code",
   "execution_count": 9,
   "metadata": {
    "ExecuteTime": {
     "end_time": "2021-04-13T08:19:54.831615Z",
     "start_time": "2021-04-13T08:10:44.893789Z"
    }
   },
   "outputs": [
    {
     "name": "stdout",
     "output_type": "stream",
     "text": [
      "1.逻辑回归 运行时间 =00:00:251517\n",
      "           准确度=0.8117\n",
      "           f1_score=0.3143\n",
      "           精准率=0.2098\n",
      "           召回率=0.6264\n",
      "           AUC面积=0.7259\n",
      "混淆矩阵:\n",
      "[[36974  7820]\n",
      " [ 1238  2076]]\n",
      "------------------------------------\n",
      "2.决策树 运行时间 =00:00:677210\n",
      "           准确度=0.8538\n",
      "           f1_score=0.2881\n",
      "           精准率=0.2167\n",
      "           召回率=0.4294\n",
      "           AUC面积=0.6573\n",
      "混淆矩阵:\n",
      "[[39651  5143]\n",
      " [ 1891  1423]]\n",
      "------------------------------------\n",
      "3.SVM, RBF kernel 运行时间 =09:08:875933\n",
      "           准确度=0.8861\n",
      "           f1_score=0.3928\n",
      "           精准率=0.3104\n",
      "           召回率=0.5347\n",
      "           AUC面积=0.7234\n",
      "混淆矩阵:\n",
      "[[40858  3936]\n",
      " [ 1542  1772]]\n",
      "------------------------------------\n",
      "4.补集朴素贝叶斯 运行时间 =00:00:119805\n",
      "           准确度=0.7759\n",
      "           f1_score=0.2587\n",
      "           精准率=0.1675\n",
      "           召回率=0.5676\n",
      "           AUC面积=0.6795\n",
      "混淆矩阵:\n",
      "[[35447  9347]\n",
      " [ 1433  1881]]\n",
      "------------------------------------\n"
     ]
    }
   ],
   "source": [
    "from sklearn.preprocessing import StandardScaler\n",
    "from sklearn.preprocessing import MinMaxScaler\n",
    "from sklearn.pipeline import Pipeline\n",
    "from sklearn.linear_model import LogisticRegression as LR                    #逻辑回归\n",
    "from sklearn.tree import DecisionTreeClassifier as DTC                       #决策树\n",
    "from sklearn.svm import SVC                                                  #SVM\n",
    "from sklearn.naive_bayes import ComplementNB                                 #补集朴素贝叶斯      \n",
    "from time import time\n",
    "import datetime\n",
    "\n",
    "pipe_LR = Pipeline([(\"scaler\", StandardScaler()),\n",
    "                    (\"lr_clf\", LR(C=0.1,solver=\"lbfgs\",class_weight='balanced')                      )  #逻辑回归对象，设置参数C=0.1,solver=\"lbfgs\",class_weight='balanced'\n",
    "                   ])                                                        \n",
    "\n",
    "pipe_DTC = Pipeline([(\"scaler\", StandardScaler()),\n",
    "                     (\"dtc_clf\", DTC(max_depth=20,class_weight='balanced')                                      )  #决策树对象，设置参数max_depth=20,class_weight='balanced'\n",
    "                    ])                                                      \n",
    "\n",
    "pipe_SVC = Pipeline([(\"scaler\", StandardScaler()),\n",
    "                     (\"svc_clf\", SVC(gamma=0.01,C=0.1, class_weight='balanced'))  #支持向量机对象，设置参数gamma=0.01,C=0.1, class_weight='balanced'\n",
    "                    ])                                                      \n",
    "\n",
    "pipe_ComplementNB = Pipeline([(\"scaler\", MinMaxScaler()),\n",
    "                              (\"cnb_clf\", ComplementNB()                           )   #补集朴素贝叶斯对象          \n",
    "                             ])                                             \n",
    "\n",
    "\n",
    "title = [\"逻辑回归\",\"决策树\",\"SVM, RBF kernel\",\"补集朴素贝叶斯\",]\n",
    "models = [pipe_LR,pipe_DTC,pipe_SVC,pipe_ComplementNB]\n",
    "\n",
    "for ind, title_, estimator in zip(range(len(title)),title,models):\n",
    "    times = time()\n",
    "    estimator.fit(X_train,y_train)\n",
    "    y_pred = estimator.predict(X_test)\n",
    "    score = metrics.accuracy_score(y_test, y_pred)\n",
    "    f1_score = metrics.f1_score(y_test, y_pred)\n",
    "    precision = metrics.precision_score(y_test, y_pred)\n",
    "    recall = metrics.recall_score(y_test, y_pred)\n",
    "    confusion = metrics.confusion_matrix(y_test, y_pred)\n",
    "    fpr, tpr, thresholds = metrics.roc_curve(y_test, y_pred)\n",
    "    auc = metrics.auc(fpr, tpr)    \n",
    "    print(\"{}.{} 运行时间 ={}\".format(ind+1,title_,datetime.datetime.fromtimestamp(time()-times).strftime(\"%M:%S:%f\")))\n",
    "    print(\"           准确度=%.4f\"%score)\n",
    "    print(\"           f1_score=%.4f\"%f1_score)\n",
    "    print(\"           精准率=%.4f\"%precision)\n",
    "    print(\"           召回率=%.4f\"%recall)\n",
    "    print(\"           AUC面积=%.4f\"%auc)\n",
    "    print(\"混淆矩阵:\")\n",
    "    print(confusion)\n",
    "    print(\"------------------------------------\")"
   ]
  },
  {
   "cell_type": "markdown",
   "metadata": {},
   "source": [
    "从运行速度、准确率、F1和AUC面积，以及混淆矩阵等多个方面综合对四类分类算法进行分析：\n",
    "1. 运行速度\n",
    "贝叶斯算法最快，逻辑回归次之，决策树再次，SVM则最慢\n",
    "\n",
    "\n",
    "2. 准确率\n",
    "SVM准确率最高，决策树次之，逻辑回归再次，贝叶斯准确率最低\n",
    "\n",
    "\n",
    "3. F1 Score\n",
    "SVM的F1 Score最高，逻辑回归次之，决策树再次，贝叶斯的最低\n",
    "\n",
    "\n",
    "4. AUC 面积\n",
    "SVM和逻辑回归相差不大，都比较高，贝叶斯次之，决策树的明显最低\n",
    "\n"
   ]
  },
  {
   "cell_type": "markdown",
   "metadata": {},
   "source": [
    "5. 绘制四种分类算法的学习曲线\n",
    "   * 逻辑回归(LogisticRegression)\n",
    "   * 决策树(DecisionTree)\n",
    "   * 支持向量机(SVM,RBF kernel)\n",
    "   * 补集朴素贝叶斯(ComplementNB)   "
   ]
  },
  {
   "cell_type": "code",
   "execution_count": 10,
   "metadata": {
    "ExecuteTime": {
     "end_time": "2021-04-13T08:19:54.841688Z",
     "start_time": "2021-04-13T08:19:54.834727Z"
    }
   },
   "outputs": [],
   "source": [
    "def plot_learning_curve(estimator,title, X, y, \n",
    "                        ax,                        #选择子图\n",
    "                        ylim=None,                 #设置纵坐标的取值范围\n",
    "                        cv=None,                   #交叉验证\n",
    "                        n_jobs=None,               #设定索要使用的线程\n",
    "                        scoring=None               #设定评估标准\n",
    "                       ):\n",
    "    train_sizes, train_scores, test_scores = learning_curve(estimator, X, y\n",
    "                                                            ,cv=cv,n_jobs=n_jobs,scoring=scoring)    \n",
    "    ax.set_title(title)\n",
    "    if ylim is not None:\n",
    "        ax.set_ylim(*ylim)\n",
    "    ax.set_xlabel(\"Training examples\")\n",
    "    ax.set_ylabel(\"Score\")\n",
    "    ax.grid() #显示网格作为背景，不是必须\n",
    "    ax.plot(train_sizes, np.mean(train_scores, axis=1), 'o-'\n",
    "            , color=\"r\",label=\"Training score\")\n",
    "    ax.plot(train_sizes, np.mean(test_scores, axis=1), 'o-'\n",
    "            , color=\"g\",label=\"Test score\")\n",
    "    ax.legend(loc=\"best\")\n",
    "    return ax"
   ]
  },
  {
   "cell_type": "code",
   "execution_count": 12,
   "metadata": {
    "ExecuteTime": {
     "end_time": "2021-04-13T08:40:45.380886Z",
     "start_time": "2021-04-13T08:21:37.228185Z"
    }
   },
   "outputs": [
    {
     "name": "stdout",
     "output_type": "stream",
     "text": [
      "Logistic Regression运行时间:00:03:311637\n",
      "DecisionTree运行时间:00:00:995072\n",
      "SVM, RBF kernel运行时间:19:02:353760\n",
      "ComplementNB运行时间:00:00:927654\n"
     ]
    },
    {
     "data": {
      "image/png": "[encoded data removed]",
      "text/plain": [
       "<Figure size 2160x432 with 4 Axes>"
      ]
     },
     "metadata": {
      "needs_background": "light"
     },
     "output_type": "display_data"
    }
   ],
   "source": [
    "import numpy as np\n",
    "import matplotlib.pyplot as plt\n",
    "from sklearn.naive_bayes import ComplementNB                                 #补集朴素贝叶斯\n",
    "from sklearn.svm import SVC                                                  #SVM    \n",
    "from sklearn.ensemble import RandomForestClassifier as RFC\n",
    "from sklearn.tree import DecisionTreeClassifier as DTC\n",
    "from sklearn.linear_model import LogisticRegression as LR\n",
    "from sklearn.datasets import load_digits\n",
    "from sklearn.model_selection import learning_curve #画学习曲线的类\n",
    "from sklearn.model_selection import ShuffleSplit #设定交叉验证模式的类\n",
    "from time import time\n",
    "import datetime\n",
    "%matplotlib inline\n",
    "\n",
    "pipe_LR = Pipeline([(\"scaler\", StandardScaler()),\n",
    "                    (\"lr_clf\", LR(C=0.1,solver=\"lbfgs\",class_weight='balanced')  )  #逻辑回归对象，设置参数C=0.1,solver=\"lbfgs\",class_weight='balanced'\n",
    "                   ])                                                        \n",
    "\n",
    "pipe_DTC = Pipeline([(\"scaler\", StandardScaler()),\n",
    "                    (\"dtc_clf\", DTC(max_depth=20,class_weight='balanced')  )  #决策树对象，设置参数max_depth=20,class_weight='balanced'\n",
    "                    ])                                                      \n",
    "\n",
    "pipe_SVC = Pipeline([(\"scaler\", StandardScaler()),\n",
    "                    (\"svc_clf\", SVC(gamma=0.01,C=0.1, class_weight='balanced')  ) #支持向量机对象，设置参数gamma=0.01,C=0.1, class_weight='balanced'\n",
    "                    ])                                                      \n",
    "\n",
    "pipe_ComplementNB = Pipeline([(\"scaler\", MinMaxScaler()),\n",
    "                              (\"cnb_clf\", ComplementNB()  ) #补集朴素贝叶斯对象\n",
    "                             ])                                             \n",
    "\n",
    "\n",
    "title = [\"Logistic Regression\",\"DecisionTree\",\"SVM, RBF kernel\",\"ComplementNB\",]\n",
    "models = [pipe_LR,pipe_DTC,pipe_SVC,pipe_ComplementNB]\n",
    "\n",
    "fig, axes = plt.subplots(1,4,figsize=(30,6))\n",
    "for ind, title_, estimator in zip(range(len(title)),title,models):\n",
    "    times = time()\n",
    "    plot_learning_curve(estimator, title_, X, y,\n",
    "                        ax=axes[ind], ylim = [0.5, 1.05],n_jobs=-1, cv=2,scoring='roc_auc')\n",
    "    print(\"{}运行时间:{}\".format(title_,datetime.datetime.fromtimestamp(time()-times).strftime(\"%M:%S:%f\")))\n",
    "plt.show()"
   ]
  },
  {
   "cell_type": "markdown",
   "metadata": {},
   "source": [
    "在学习曲线基础上，从偏差和方差两方面来对四类分析算法分析过拟合和欠拟合现象：\n",
    "1. 过拟合：\n",
    "LR可以看出偏差比较大，而方差比较小，算法的过拟合现象比较良好\n",
    "DTC训练集的偏差比较小，而方差比较大，明显有这较大的过拟合现象\n",
    "SVM的图可以看出算法偏差比较大，同时方差略大，过拟合现象一般\n",
    "ComplementNB可以看出偏差比较小，方差良好，过拟合现象比较小\n",
    "\n",
    "2. 欠拟合：\n",
    "从四中算法的图中训练集均在测试集上方\n",
    "可以看出四种算法的欠拟合现象都比较良好\n"
   ]
  },
  {
   "cell_type": "code",
   "execution_count": null,
   "metadata": {},
   "outputs": [],
   "source": []
  }
 ],
 "metadata": {
  "kernelspec": {
   "display_name": "Python 3",
   "language": "python",
   "name": "python3"
  },
  "language_info": {
   "codemirror_mode": {
    "name": "ipython",
    "version": 3
   },
   "file_extension": ".py",
   "mimetype": "text/x-python",
   "name": "python",
   "nbconvert_exporter": "python",
   "pygments_lexer": "ipython3",
   "version": "3.8.5"
  }
 },
 "nbformat": 4,
 "nbformat_minor": 4
}
